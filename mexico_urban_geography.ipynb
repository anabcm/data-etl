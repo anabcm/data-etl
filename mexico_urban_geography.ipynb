{
 "cells": [
  {
   "cell_type": "markdown",
   "metadata": {},
   "source": [
    "# Import needed libraries"
   ]
  },
  {
   "cell_type": "code",
   "execution_count": 1,
   "metadata": {},
   "outputs": [],
   "source": [
    "import pandas as pd\n",
    "import geopandas as gpd\n",
    "import matplotlib.pyplot as plt\n",
    "from shapely.geometry import Point, Polygon\n",
    "\n",
    "pd.set_option('display.max_columns', 500)"
   ]
  },
  {
   "cell_type": "markdown",
   "metadata": {},
   "source": [
    "# Read unique catalogue for Localitites.\n",
    "File with all Localities in the country, their names, their coordinates, altitude, and some population data."
   ]
  },
  {
   "cell_type": "code",
   "execution_count": 2,
   "metadata": {
    "scrolled": true
   },
   "outputs": [
    {
     "name": "stderr",
     "output_type": "stream",
     "text": [
      "/home/lore/anaconda3/envs/data/lib/python3.7/site-packages/IPython/core/interactiveshell.py:3049: DtypeWarning: Columns (13) have mixed types. Specify dtype option on import or set low_memory=False.\n",
      "  interactivity=interactivity, compiler=compiler, result=result)\n"
     ]
    },
    {
     "name": "stdout",
     "output_type": "stream",
     "text": [
      "(304277, 17)\n"
     ]
    },
    {
     "data": {
      "text/html": [
       "<div>\n",
       "<style scoped>\n",
       "    .dataframe tbody tr th:only-of-type {\n",
       "        vertical-align: middle;\n",
       "    }\n",
       "\n",
       "    .dataframe tbody tr th {\n",
       "        vertical-align: top;\n",
       "    }\n",
       "\n",
       "    .dataframe thead th {\n",
       "        text-align: right;\n",
       "    }\n",
       "</style>\n",
       "<table border=\"1\" class=\"dataframe\">\n",
       "  <thead>\n",
       "    <tr style=\"text-align: right;\">\n",
       "      <th></th>\n",
       "      <th>map</th>\n",
       "      <th>ent_code</th>\n",
       "      <th>ent_name</th>\n",
       "      <th>ab_name</th>\n",
       "      <th>mun_code</th>\n",
       "      <th>mun_name</th>\n",
       "      <th>loc_code</th>\n",
       "      <th>loc_name</th>\n",
       "      <th>ambit</th>\n",
       "      <th>latitude</th>\n",
       "      <th>longitude</th>\n",
       "      <th>altitude</th>\n",
       "      <th>cart_code</th>\n",
       "      <th>total_pop</th>\n",
       "      <th>male_pop</th>\n",
       "      <th>female_pop</th>\n",
       "      <th>total_inhabited_households</th>\n",
       "    </tr>\n",
       "  </thead>\n",
       "  <tbody>\n",
       "    <tr>\n",
       "      <th>0</th>\n",
       "      <td>010010001</td>\n",
       "      <td>01</td>\n",
       "      <td>Aguascalientes</td>\n",
       "      <td>Ags.</td>\n",
       "      <td>001</td>\n",
       "      <td>Aguascalientes</td>\n",
       "      <td>0001</td>\n",
       "      <td>Aguascalientes</td>\n",
       "      <td>U</td>\n",
       "      <td>21.879823</td>\n",
       "      <td>-102.296047</td>\n",
       "      <td>1878</td>\n",
       "      <td>F13D19</td>\n",
       "      <td>722250</td>\n",
       "      <td>348722</td>\n",
       "      <td>373528</td>\n",
       "      <td>185120</td>\n",
       "    </tr>\n",
       "  </tbody>\n",
       "</table>\n",
       "</div>"
      ],
      "text/plain": [
       "         map ent_code        ent_name ab_name mun_code        mun_name  \\\n",
       "0  010010001       01  Aguascalientes    Ags.      001  Aguascalientes   \n",
       "\n",
       "  loc_code        loc_name ambit   latitude   longitude altitude cart_code  \\\n",
       "0     0001  Aguascalientes     U  21.879823 -102.296047     1878    F13D19   \n",
       "\n",
       "   total_pop  male_pop  female_pop  total_inhabited_households  \n",
       "0     722250    348722      373528                      185120  "
      ]
     },
     "metadata": {},
     "output_type": "display_data"
    }
   ],
   "source": [
    "cat = pd.read_csv('/home/lore/Documents/DataMexico/catun_localidad.csv',\n",
    "                 dtype={\n",
    "                     'Mapa':str,\n",
    "                     'Cve_Ent' : str,\n",
    "                     'Cve_Mun' : str,\n",
    "                     'Cve_Loc' : str\n",
    "                 })\n",
    "\n",
    "del cat['Latitud']\n",
    "del cat['Longitud']\n",
    "\n",
    "cat = cat.rename(columns={\n",
    "    'Ámbito' : 'ambit',\n",
    "    'Mapa'   : 'map',\n",
    "    'Cve_Ent': 'ent_code',\n",
    "    'Nom_Ent': 'ent_name',\n",
    "    'Nom_Abr': 'ab_name',\n",
    "    'Cve_Mun': 'mun_code',\n",
    "    'Nom_Mun': 'mun_name',\n",
    "    'Cve_Loc': 'loc_code',\n",
    "    'Nom_Loc': 'loc_name',\n",
    "    'Lat_Decimal' : 'latitude',\n",
    "    'Lon_Decimal' : 'longitude',\n",
    "    'Altitud' : 'altitude',\n",
    "    'Cve_Carta': 'cart_code',\n",
    "    'Pob_Total': 'total_pop',\n",
    "    'Pob_Masculina' : 'male_pop',\n",
    "    'Pob_Femenina' : 'female_pop',\n",
    "    'Total De Viviendas Habitadas': 'total_inhabited_households'\n",
    "})\n",
    "\n",
    "print(cat.shape)\n",
    "display(cat.head(1))"
   ]
  },
  {
   "cell_type": "markdown",
   "metadata": {},
   "source": [
    "# Read shapefiles.\n",
    "64 files, 32 with the AGEBs geometry for the urban areas and 32 with the AGEBs geometry for the rural areas."
   ]
  },
  {
   "cell_type": "code",
   "execution_count": 3,
   "metadata": {},
   "outputs": [],
   "source": [
    "# Lsit with all entities in the country\n",
    "\n",
    "entidades = [\n",
    "    '01_aguascalientes',\n",
    "    '02_bajacalifornia', \n",
    "    '03_bajacaliforniasur',\n",
    "    '04_campeche',\n",
    "    '05_coahuiladezaragoza',\n",
    "    '06_colima',\n",
    "    '07_chiapas',\n",
    "    '08_chihuahua',\n",
    "    '09_ciudaddemexico',\n",
    "    '10_durango',\n",
    "    '11_guanajuato',\n",
    "    '12_guerrero',\n",
    "    '13_hidalgo',\n",
    "    '14_jalisco',\n",
    "    '15_mexico',\n",
    "    '16_michoacandeocampo',\n",
    "    '17_morelos',\n",
    "    '18_nayarit',\n",
    "    '19_nuevoleon',\n",
    "    '20_oaxaca',\n",
    "    '21_puebla',\n",
    "    '22_queretaro',\n",
    "    '23_quintanaroo',\n",
    "    '24_sanluispotosi',\n",
    "    '25_sinaloa',\n",
    "    '26_sonora',\n",
    "    '27_tabasco',\n",
    "    '28_tamaulipas',\n",
    "    '29_tlaxcala',\n",
    "    '30_veracruzignaciodelallave',\n",
    "    '31_yucatan',\n",
    "    '32_zacatecas'\n",
    "]"
   ]
  },
  {
   "cell_type": "code",
   "execution_count": 4,
   "metadata": {},
   "outputs": [],
   "source": [
    "# Function to rename the columns in the shapefiles\n",
    "\n",
    "def rename_shapefiles(df, area_type):\n",
    "    df = df.rename(columns={\n",
    "            'CVE_ENT'  : 'ent_code',\n",
    "            'CVE_AGEB' : 'ageb_code',\n",
    "            'CVE_MUN'  : 'mun_code',\n",
    "        \n",
    "        })\n",
    "    \n",
    "    if area_type == 'U':\n",
    "        df = df.rename(columns={\n",
    "            'CVE_LOC':'loc_code'\n",
    "        })\n",
    "       \n",
    "        df['cvegeo_loc'] = df['ent_code'] + df['mun_code'] + df['loc_code']\n",
    "        \n",
    "    elif area_type == 'R':\n",
    "        df =df.rename(columns={\n",
    "            'CVEGEO':'cvegeo_ageb'\n",
    "        })\n",
    "        \n",
    "    return df"
   ]
  },
  {
   "cell_type": "code",
   "execution_count": 5,
   "metadata": {},
   "outputs": [
    {
     "name": "stdout",
     "output_type": "stream",
     "text": [
      "(62280, 6) (17469, 5)\n"
     ]
    },
    {
     "data": {
      "text/html": [
       "<div>\n",
       "<style scoped>\n",
       "    .dataframe tbody tr th:only-of-type {\n",
       "        vertical-align: middle;\n",
       "    }\n",
       "\n",
       "    .dataframe tbody tr th {\n",
       "        vertical-align: top;\n",
       "    }\n",
       "\n",
       "    .dataframe thead th {\n",
       "        text-align: right;\n",
       "    }\n",
       "</style>\n",
       "<table border=\"1\" class=\"dataframe\">\n",
       "  <thead>\n",
       "    <tr style=\"text-align: right;\">\n",
       "      <th></th>\n",
       "      <th>ent_code</th>\n",
       "      <th>loc_code</th>\n",
       "      <th>mun_code</th>\n",
       "      <th>ageb_code</th>\n",
       "      <th>geometry</th>\n",
       "      <th>cvegeo_loc</th>\n",
       "    </tr>\n",
       "  </thead>\n",
       "  <tbody>\n",
       "    <tr>\n",
       "      <th>0</th>\n",
       "      <td>01</td>\n",
       "      <td>0001</td>\n",
       "      <td>001</td>\n",
       "      <td>216A</td>\n",
       "      <td>POLYGON ((2472175.610600002 1095222.905299999,...</td>\n",
       "      <td>010010001</td>\n",
       "    </tr>\n",
       "  </tbody>\n",
       "</table>\n",
       "</div>"
      ],
      "text/plain": [
       "  ent_code loc_code mun_code ageb_code  \\\n",
       "0       01     0001      001      216A   \n",
       "\n",
       "                                            geometry cvegeo_loc  \n",
       "0  POLYGON ((2472175.610600002 1095222.905299999,...  010010001  "
      ]
     },
     "metadata": {},
     "output_type": "display_data"
    },
    {
     "data": {
      "text/html": [
       "<div>\n",
       "<style scoped>\n",
       "    .dataframe tbody tr th:only-of-type {\n",
       "        vertical-align: middle;\n",
       "    }\n",
       "\n",
       "    .dataframe tbody tr th {\n",
       "        vertical-align: top;\n",
       "    }\n",
       "\n",
       "    .dataframe thead th {\n",
       "        text-align: right;\n",
       "    }\n",
       "</style>\n",
       "<table border=\"1\" class=\"dataframe\">\n",
       "  <thead>\n",
       "    <tr style=\"text-align: right;\">\n",
       "      <th></th>\n",
       "      <th>ent_code</th>\n",
       "      <th>mun_code</th>\n",
       "      <th>cvegeo_ageb</th>\n",
       "      <th>ageb_code</th>\n",
       "      <th>geometry</th>\n",
       "    </tr>\n",
       "  </thead>\n",
       "  <tbody>\n",
       "    <tr>\n",
       "      <th>0</th>\n",
       "      <td>01</td>\n",
       "      <td>001</td>\n",
       "      <td>010011890</td>\n",
       "      <td>1890</td>\n",
       "      <td>POLYGON ((2482927.470100001 1113504.856899999,...</td>\n",
       "    </tr>\n",
       "  </tbody>\n",
       "</table>\n",
       "</div>"
      ],
      "text/plain": [
       "  ent_code mun_code cvegeo_ageb ageb_code  \\\n",
       "0       01      001   010011890      1890   \n",
       "\n",
       "                                            geometry  \n",
       "0  POLYGON ((2482927.470100001 1113504.856899999,...  "
      ]
     },
     "metadata": {},
     "output_type": "display_data"
    }
   ],
   "source": [
    "rural_shapes = []\n",
    "urban_shapes = []\n",
    "\n",
    "for i in range(0,32):\n",
    "    # Read the data for each entity. The data is divided in rural and urban.\n",
    "    \n",
    "    #print(i)\n",
    "    urban_agebs = gpd.read_file('/home/lore/Documents/DataMexico/marco_geoestadistico_2018/'+entidades[i]+'/conjunto de datos/'+entidades[i][0:2]+'a'+'.shp')\n",
    "    urban_agebs = rename_shapefiles(urban_agebs, 'U')\n",
    "    \n",
    "    rural_agebs = gpd.read_file('/home/lore/Documents/DataMexico/marco_geoestadistico_2018/'+entidades[i]+'/conjunto de datos/'+entidades[i][0:2]+'ar'+'.shp')\n",
    "    rural_agebs = rename_shapefiles(rural_agebs, 'R')\n",
    "    #print(rural_agebs.shape, urban_agebs.shape)\n",
    "    \n",
    "    urban_shapes.append(urban_agebs)\n",
    "    rural_shapes.append(rural_agebs)\n",
    "\n",
    "\n",
    "urban_shapes = pd.concat(urban_shapes)\n",
    "rural_shapes = pd.concat(rural_shapes)\n",
    "\n",
    "print(urban_shapes.shape, rural_shapes.shape)\n",
    "display(urban_shapes.head(1))\n",
    "display(rural_shapes.head(1))"
   ]
  },
  {
   "cell_type": "code",
   "execution_count": 7,
   "metadata": {},
   "outputs": [
    {
     "name": "stdout",
     "output_type": "stream",
     "text": [
      "(79749, 7)\n"
     ]
    },
    {
     "name": "stderr",
     "output_type": "stream",
     "text": [
      "/home/lore/anaconda3/envs/data/lib/python3.7/site-packages/ipykernel_launcher.py:1: FutureWarning: Sorting because non-concatenation axis is not aligned. A future version\n",
      "of pandas will change to not sort by default.\n",
      "\n",
      "To accept the future behavior, pass 'sort=False'.\n",
      "\n",
      "To retain the current behavior and silence the warning, pass 'sort=True'.\n",
      "\n",
      "  \"\"\"Entry point for launching an IPython kernel.\n"
     ]
    }
   ],
   "source": [
    "total = pd.concat([urban_shapes,rural_shapes])\n",
    "print(total.shape)"
   ]
  },
  {
   "cell_type": "code",
   "execution_count": 8,
   "metadata": {},
   "outputs": [
    {
     "data": {
      "text/plain": [
       "<matplotlib.axes._subplots.AxesSubplot at 0x7f216d7827f0>"
      ]
     },
     "execution_count": 8,
     "metadata": {},
     "output_type": "execute_result"
    },
    {
     "data": {
      "image/png": "[encoded data removed]",
      "text/plain": [
       "<Figure size 720x720 with 1 Axes>"
      ]
     },
     "metadata": {
      "needs_background": "light"
     },
     "output_type": "display_data"
    }
   ],
   "source": [
    "total.plot(figsize=(10,10))"
   ]
  },
  {
   "cell_type": "markdown",
   "metadata": {},
   "source": [
    "# Urban "
   ]
  },
  {
   "cell_type": "code",
   "execution_count": 7,
   "metadata": {
    "scrolled": true
   },
   "outputs": [
    {
     "name": "stdout",
     "output_type": "stream",
     "text": [
      "(4562, 17)\n"
     ]
    },
    {
     "data": {
      "text/html": [
       "<div>\n",
       "<style scoped>\n",
       "    .dataframe tbody tr th:only-of-type {\n",
       "        vertical-align: middle;\n",
       "    }\n",
       "\n",
       "    .dataframe tbody tr th {\n",
       "        vertical-align: top;\n",
       "    }\n",
       "\n",
       "    .dataframe thead th {\n",
       "        text-align: right;\n",
       "    }\n",
       "</style>\n",
       "<table border=\"1\" class=\"dataframe\">\n",
       "  <thead>\n",
       "    <tr style=\"text-align: right;\">\n",
       "      <th></th>\n",
       "      <th>map</th>\n",
       "      <th>ent_code</th>\n",
       "      <th>ent_name</th>\n",
       "      <th>ab_name</th>\n",
       "      <th>mun_code</th>\n",
       "      <th>mun_name</th>\n",
       "      <th>loc_code</th>\n",
       "      <th>loc_name</th>\n",
       "      <th>ambit</th>\n",
       "      <th>latitude</th>\n",
       "      <th>longitude</th>\n",
       "      <th>altitude</th>\n",
       "      <th>cart_code</th>\n",
       "      <th>total_pop</th>\n",
       "      <th>male_pop</th>\n",
       "      <th>female_pop</th>\n",
       "      <th>total_inhabited_households</th>\n",
       "    </tr>\n",
       "  </thead>\n",
       "  <tbody>\n",
       "    <tr>\n",
       "      <th>0</th>\n",
       "      <td>010010001</td>\n",
       "      <td>01</td>\n",
       "      <td>Aguascalientes</td>\n",
       "      <td>Ags.</td>\n",
       "      <td>001</td>\n",
       "      <td>Aguascalientes</td>\n",
       "      <td>0001</td>\n",
       "      <td>Aguascalientes</td>\n",
       "      <td>U</td>\n",
       "      <td>21.879823</td>\n",
       "      <td>-102.296047</td>\n",
       "      <td>1878</td>\n",
       "      <td>F13D19</td>\n",
       "      <td>722250</td>\n",
       "      <td>348722</td>\n",
       "      <td>373528</td>\n",
       "      <td>185120</td>\n",
       "    </tr>\n",
       "  </tbody>\n",
       "</table>\n",
       "</div>"
      ],
      "text/plain": [
       "         map ent_code        ent_name ab_name mun_code        mun_name  \\\n",
       "0  010010001       01  Aguascalientes    Ags.      001  Aguascalientes   \n",
       "\n",
       "  loc_code        loc_name ambit   latitude   longitude altitude cart_code  \\\n",
       "0     0001  Aguascalientes     U  21.879823 -102.296047     1878    F13D19   \n",
       "\n",
       "   total_pop  male_pop  female_pop  total_inhabited_households  \n",
       "0     722250    348722      373528                      185120  "
      ]
     },
     "metadata": {},
     "output_type": "display_data"
    }
   ],
   "source": [
    "# We filter from the cunique catalogue the localities which are in urban zones.\n",
    "\n",
    "urban_catalogue = cat[cat.ambit == 'U']\n",
    "print(urban_catalogue.shape)\n",
    "display(urban_catalogue.head(1))"
   ]
  },
  {
   "cell_type": "code",
   "execution_count": 8,
   "metadata": {},
   "outputs": [
    {
     "name": "stdout",
     "output_type": "stream",
     "text": [
      "(62280, 20)\n"
     ]
    },
    {
     "data": {
      "text/html": [
       "<div>\n",
       "<style scoped>\n",
       "    .dataframe tbody tr th:only-of-type {\n",
       "        vertical-align: middle;\n",
       "    }\n",
       "\n",
       "    .dataframe tbody tr th {\n",
       "        vertical-align: top;\n",
       "    }\n",
       "\n",
       "    .dataframe thead th {\n",
       "        text-align: right;\n",
       "    }\n",
       "</style>\n",
       "<table border=\"1\" class=\"dataframe\">\n",
       "  <thead>\n",
       "    <tr style=\"text-align: right;\">\n",
       "      <th></th>\n",
       "      <th>cvegeo_loc</th>\n",
       "      <th>ageb_code</th>\n",
       "      <th>geometry</th>\n",
       "      <th>map</th>\n",
       "      <th>ent_code</th>\n",
       "      <th>ent_name</th>\n",
       "      <th>ab_name</th>\n",
       "      <th>mun_code</th>\n",
       "      <th>mun_name</th>\n",
       "      <th>loc_code</th>\n",
       "      <th>loc_name</th>\n",
       "      <th>ambit</th>\n",
       "      <th>latitude</th>\n",
       "      <th>longitude</th>\n",
       "      <th>altitude</th>\n",
       "      <th>cart_code</th>\n",
       "      <th>total_pop</th>\n",
       "      <th>male_pop</th>\n",
       "      <th>female_pop</th>\n",
       "      <th>total_inhabited_households</th>\n",
       "    </tr>\n",
       "  </thead>\n",
       "  <tbody>\n",
       "    <tr>\n",
       "      <th>0</th>\n",
       "      <td>010010001</td>\n",
       "      <td>216A</td>\n",
       "      <td>POLYGON ((2472175.610600002 1095222.905299999,...</td>\n",
       "      <td>010010001</td>\n",
       "      <td>01</td>\n",
       "      <td>Aguascalientes</td>\n",
       "      <td>Ags.</td>\n",
       "      <td>001</td>\n",
       "      <td>Aguascalientes</td>\n",
       "      <td>0001</td>\n",
       "      <td>Aguascalientes</td>\n",
       "      <td>U</td>\n",
       "      <td>21.879823</td>\n",
       "      <td>-102.296047</td>\n",
       "      <td>1878</td>\n",
       "      <td>F13D19</td>\n",
       "      <td>722250.0</td>\n",
       "      <td>348722.0</td>\n",
       "      <td>373528.0</td>\n",
       "      <td>185120.0</td>\n",
       "    </tr>\n",
       "  </tbody>\n",
       "</table>\n",
       "</div>"
      ],
      "text/plain": [
       "  cvegeo_loc ageb_code                                           geometry  \\\n",
       "0  010010001      216A  POLYGON ((2472175.610600002 1095222.905299999,...   \n",
       "\n",
       "         map ent_code        ent_name ab_name mun_code        mun_name  \\\n",
       "0  010010001       01  Aguascalientes    Ags.      001  Aguascalientes   \n",
       "\n",
       "  loc_code        loc_name ambit   latitude   longitude altitude cart_code  \\\n",
       "0     0001  Aguascalientes     U  21.879823 -102.296047     1878    F13D19   \n",
       "\n",
       "   total_pop  male_pop  female_pop  total_inhabited_households  \n",
       "0   722250.0  348722.0    373528.0                    185120.0  "
      ]
     },
     "metadata": {},
     "output_type": "display_data"
    }
   ],
   "source": [
    "urban = urban_shapes[['cvegeo_loc','ageb_code','geometry']].merge(urban_catalogue, left_on='cvegeo_loc', right_on='map', how='outer')\n",
    "print(urban.shape)\n",
    "display(urban.head(1))"
   ]
  },
  {
   "cell_type": "code",
   "execution_count": 9,
   "metadata": {
    "scrolled": true
   },
   "outputs": [
    {
     "name": "stdout",
     "output_type": "stream",
     "text": [
      "No missing data\n",
      "(7, 20)\n"
     ]
    },
    {
     "data": {
      "text/html": [
       "<div>\n",
       "<style scoped>\n",
       "    .dataframe tbody tr th:only-of-type {\n",
       "        vertical-align: middle;\n",
       "    }\n",
       "\n",
       "    .dataframe tbody tr th {\n",
       "        vertical-align: top;\n",
       "    }\n",
       "\n",
       "    .dataframe thead th {\n",
       "        text-align: right;\n",
       "    }\n",
       "</style>\n",
       "<table border=\"1\" class=\"dataframe\">\n",
       "  <thead>\n",
       "    <tr style=\"text-align: right;\">\n",
       "      <th></th>\n",
       "      <th>cvegeo_loc</th>\n",
       "      <th>ageb_code</th>\n",
       "      <th>geometry</th>\n",
       "      <th>map</th>\n",
       "      <th>ent_code</th>\n",
       "      <th>ent_name</th>\n",
       "      <th>ab_name</th>\n",
       "      <th>mun_code</th>\n",
       "      <th>mun_name</th>\n",
       "      <th>loc_code</th>\n",
       "      <th>loc_name</th>\n",
       "      <th>ambit</th>\n",
       "      <th>latitude</th>\n",
       "      <th>longitude</th>\n",
       "      <th>altitude</th>\n",
       "      <th>cart_code</th>\n",
       "      <th>total_pop</th>\n",
       "      <th>male_pop</th>\n",
       "      <th>female_pop</th>\n",
       "      <th>total_inhabited_households</th>\n",
       "    </tr>\n",
       "  </thead>\n",
       "  <tbody>\n",
       "    <tr>\n",
       "      <th>51146</th>\n",
       "      <td>260430488</td>\n",
       "      <td>248A</td>\n",
       "      <td>POLYGON ((1641651.771499999 2147404.4529, 1641...</td>\n",
       "      <td>NaN</td>\n",
       "      <td>NaN</td>\n",
       "      <td>NaN</td>\n",
       "      <td>NaN</td>\n",
       "      <td>NaN</td>\n",
       "      <td>NaN</td>\n",
       "      <td>NaN</td>\n",
       "      <td>NaN</td>\n",
       "      <td>NaN</td>\n",
       "      <td>NaN</td>\n",
       "      <td>NaN</td>\n",
       "      <td>NaN</td>\n",
       "      <td>NaN</td>\n",
       "      <td>NaN</td>\n",
       "      <td>NaN</td>\n",
       "      <td>NaN</td>\n",
       "      <td>NaN</td>\n",
       "    </tr>\n",
       "    <tr>\n",
       "      <th>51147</th>\n",
       "      <td>260430488</td>\n",
       "      <td>2418</td>\n",
       "      <td>POLYGON ((1641792.905199997 2147928.594900001,...</td>\n",
       "      <td>NaN</td>\n",
       "      <td>NaN</td>\n",
       "      <td>NaN</td>\n",
       "      <td>NaN</td>\n",
       "      <td>NaN</td>\n",
       "      <td>NaN</td>\n",
       "      <td>NaN</td>\n",
       "      <td>NaN</td>\n",
       "      <td>NaN</td>\n",
       "      <td>NaN</td>\n",
       "      <td>NaN</td>\n",
       "      <td>NaN</td>\n",
       "      <td>NaN</td>\n",
       "      <td>NaN</td>\n",
       "      <td>NaN</td>\n",
       "      <td>NaN</td>\n",
       "      <td>NaN</td>\n",
       "    </tr>\n",
       "    <tr>\n",
       "      <th>51148</th>\n",
       "      <td>260430488</td>\n",
       "      <td>2352</td>\n",
       "      <td>POLYGON ((1641649.330200002 2147600.407600001,...</td>\n",
       "      <td>NaN</td>\n",
       "      <td>NaN</td>\n",
       "      <td>NaN</td>\n",
       "      <td>NaN</td>\n",
       "      <td>NaN</td>\n",
       "      <td>NaN</td>\n",
       "      <td>NaN</td>\n",
       "      <td>NaN</td>\n",
       "      <td>NaN</td>\n",
       "      <td>NaN</td>\n",
       "      <td>NaN</td>\n",
       "      <td>NaN</td>\n",
       "      <td>NaN</td>\n",
       "      <td>NaN</td>\n",
       "      <td>NaN</td>\n",
       "      <td>NaN</td>\n",
       "      <td>NaN</td>\n",
       "    </tr>\n",
       "    <tr>\n",
       "      <th>51149</th>\n",
       "      <td>260430488</td>\n",
       "      <td>2367</td>\n",
       "      <td>POLYGON ((1640812.808700003 2147366.419799998,...</td>\n",
       "      <td>NaN</td>\n",
       "      <td>NaN</td>\n",
       "      <td>NaN</td>\n",
       "      <td>NaN</td>\n",
       "      <td>NaN</td>\n",
       "      <td>NaN</td>\n",
       "      <td>NaN</td>\n",
       "      <td>NaN</td>\n",
       "      <td>NaN</td>\n",
       "      <td>NaN</td>\n",
       "      <td>NaN</td>\n",
       "      <td>NaN</td>\n",
       "      <td>NaN</td>\n",
       "      <td>NaN</td>\n",
       "      <td>NaN</td>\n",
       "      <td>NaN</td>\n",
       "      <td>NaN</td>\n",
       "    </tr>\n",
       "    <tr>\n",
       "      <th>51150</th>\n",
       "      <td>260430488</td>\n",
       "      <td>2422</td>\n",
       "      <td>POLYGON ((1642420.4859 2147756.600400001, 1642...</td>\n",
       "      <td>NaN</td>\n",
       "      <td>NaN</td>\n",
       "      <td>NaN</td>\n",
       "      <td>NaN</td>\n",
       "      <td>NaN</td>\n",
       "      <td>NaN</td>\n",
       "      <td>NaN</td>\n",
       "      <td>NaN</td>\n",
       "      <td>NaN</td>\n",
       "      <td>NaN</td>\n",
       "      <td>NaN</td>\n",
       "      <td>NaN</td>\n",
       "      <td>NaN</td>\n",
       "      <td>NaN</td>\n",
       "      <td>NaN</td>\n",
       "      <td>NaN</td>\n",
       "      <td>NaN</td>\n",
       "    </tr>\n",
       "  </tbody>\n",
       "</table>\n",
       "</div>"
      ],
      "text/plain": [
       "      cvegeo_loc ageb_code                                           geometry  \\\n",
       "51146  260430488      248A  POLYGON ((1641651.771499999 2147404.4529, 1641...   \n",
       "51147  260430488      2418  POLYGON ((1641792.905199997 2147928.594900001,...   \n",
       "51148  260430488      2352  POLYGON ((1641649.330200002 2147600.407600001,...   \n",
       "51149  260430488      2367  POLYGON ((1640812.808700003 2147366.419799998,...   \n",
       "51150  260430488      2422  POLYGON ((1642420.4859 2147756.600400001, 1642...   \n",
       "\n",
       "       map ent_code ent_name ab_name mun_code mun_name loc_code loc_name  \\\n",
       "51146  NaN      NaN      NaN     NaN      NaN      NaN      NaN      NaN   \n",
       "51147  NaN      NaN      NaN     NaN      NaN      NaN      NaN      NaN   \n",
       "51148  NaN      NaN      NaN     NaN      NaN      NaN      NaN      NaN   \n",
       "51149  NaN      NaN      NaN     NaN      NaN      NaN      NaN      NaN   \n",
       "51150  NaN      NaN      NaN     NaN      NaN      NaN      NaN      NaN   \n",
       "\n",
       "      ambit  latitude  longitude altitude cart_code  total_pop  male_pop  \\\n",
       "51146   NaN       NaN        NaN      NaN       NaN        NaN       NaN   \n",
       "51147   NaN       NaN        NaN      NaN       NaN        NaN       NaN   \n",
       "51148   NaN       NaN        NaN      NaN       NaN        NaN       NaN   \n",
       "51149   NaN       NaN        NaN      NaN       NaN        NaN       NaN   \n",
       "51150   NaN       NaN        NaN      NaN       NaN        NaN       NaN   \n",
       "\n",
       "       female_pop  total_inhabited_households  \n",
       "51146         NaN                         NaN  \n",
       "51147         NaN                         NaN  \n",
       "51148         NaN                         NaN  \n",
       "51149         NaN                         NaN  \n",
       "51150         NaN                         NaN  "
      ]
     },
     "metadata": {},
     "output_type": "display_data"
    }
   ],
   "source": [
    "# Check for nulls\n",
    "# Data which is in the Catalogue but not in the shapefiles\n",
    "\n",
    "if urban[urban.ageb_code.isnull()].shape[0] != 0:\n",
    "    print(urban[urban.ageb_code.isnull()].shape)\n",
    "    display(urban[urban.ageb_code.isnull()].head())\n",
    "          \n",
    "else:\n",
    "    print('No missing data')\n",
    "# Data which is in the shapefiles but not in the Catalogue\n",
    "\n",
    "if urban[urban.map.isnull()].shape[0] != 0:\n",
    "    print(urban[urban.map.isnull()].shape)\n",
    "    display(urban[urban.map.isnull()].head())\n",
    "else:\n",
    "    print('No missing data')"
   ]
  },
  {
   "cell_type": "markdown",
   "metadata": {},
   "source": [
    "# Rural"
   ]
  },
  {
   "cell_type": "code",
   "execution_count": 10,
   "metadata": {},
   "outputs": [
    {
     "name": "stdout",
     "output_type": "stream",
     "text": [
      "(299715, 17)\n"
     ]
    },
    {
     "data": {
      "text/html": [
       "<div>\n",
       "<style scoped>\n",
       "    .dataframe tbody tr th:only-of-type {\n",
       "        vertical-align: middle;\n",
       "    }\n",
       "\n",
       "    .dataframe tbody tr th {\n",
       "        vertical-align: top;\n",
       "    }\n",
       "\n",
       "    .dataframe thead th {\n",
       "        text-align: right;\n",
       "    }\n",
       "</style>\n",
       "<table border=\"1\" class=\"dataframe\">\n",
       "  <thead>\n",
       "    <tr style=\"text-align: right;\">\n",
       "      <th></th>\n",
       "      <th>map</th>\n",
       "      <th>ent_code</th>\n",
       "      <th>ent_name</th>\n",
       "      <th>ab_name</th>\n",
       "      <th>mun_code</th>\n",
       "      <th>mun_name</th>\n",
       "      <th>loc_code</th>\n",
       "      <th>loc_name</th>\n",
       "      <th>ambit</th>\n",
       "      <th>latitude</th>\n",
       "      <th>longitude</th>\n",
       "      <th>altitude</th>\n",
       "      <th>cart_code</th>\n",
       "      <th>total_pop</th>\n",
       "      <th>male_pop</th>\n",
       "      <th>female_pop</th>\n",
       "      <th>total_inhabited_households</th>\n",
       "    </tr>\n",
       "  </thead>\n",
       "  <tbody>\n",
       "    <tr>\n",
       "      <th>1</th>\n",
       "      <td>010010094</td>\n",
       "      <td>01</td>\n",
       "      <td>Aguascalientes</td>\n",
       "      <td>Ags.</td>\n",
       "      <td>001</td>\n",
       "      <td>Aguascalientes</td>\n",
       "      <td>0094</td>\n",
       "      <td>Granja Adelita</td>\n",
       "      <td>R</td>\n",
       "      <td>21.871875</td>\n",
       "      <td>-102.373531</td>\n",
       "      <td>1902</td>\n",
       "      <td>F13D18</td>\n",
       "      <td>14</td>\n",
       "      <td>0</td>\n",
       "      <td>0</td>\n",
       "      <td>2</td>\n",
       "    </tr>\n",
       "  </tbody>\n",
       "</table>\n",
       "</div>"
      ],
      "text/plain": [
       "         map ent_code        ent_name ab_name mun_code        mun_name  \\\n",
       "1  010010094       01  Aguascalientes    Ags.      001  Aguascalientes   \n",
       "\n",
       "  loc_code        loc_name ambit   latitude   longitude altitude cart_code  \\\n",
       "1     0094  Granja Adelita     R  21.871875 -102.373531     1902    F13D18   \n",
       "\n",
       "   total_pop  male_pop  female_pop  total_inhabited_households  \n",
       "1         14         0           0                           2  "
      ]
     },
     "metadata": {},
     "output_type": "display_data"
    }
   ],
   "source": [
    "# We filter from the cunique catalogue the localities which are in rural zones.\n",
    "\n",
    "rural_catalogue = cat[cat.ambit == 'R']\n",
    "print(rural_catalogue.shape)\n",
    "display(rural_catalogue.head(1))"
   ]
  },
  {
   "cell_type": "code",
   "execution_count": null,
   "metadata": {},
   "outputs": [],
   "source": []
  },
  {
   "cell_type": "code",
   "execution_count": null,
   "metadata": {},
   "outputs": [],
   "source": []
  },
  {
   "cell_type": "code",
   "execution_count": null,
   "metadata": {},
   "outputs": [],
   "source": []
  },
  {
   "cell_type": "markdown",
   "metadata": {},
   "source": [
    "# Count Municipalities"
   ]
  },
  {
   "cell_type": "code",
   "execution_count": 14,
   "metadata": {},
   "outputs": [
    {
     "name": "stdout",
     "output_type": "stream",
     "text": [
      "(2463, 2)\n"
     ]
    }
   ],
   "source": [
    "# The Urban Municipalitites\n",
    "\n",
    "urban_shapes['cvegeo_mun'] = urban_shapes['ent_code'] + urban_shapes['mun_code']\n",
    "urban_municipalitites = urban_shapes[['cvegeo_mun','geometry']]\n",
    "urban_municipalitites = urban_municipalitites.drop_duplicates('cvegeo_mun')\n",
    "print(urban_municipalitites.shape)"
   ]
  },
  {
   "cell_type": "code",
   "execution_count": 15,
   "metadata": {},
   "outputs": [
    {
     "name": "stdout",
     "output_type": "stream",
     "text": [
      "(2444, 2)\n"
     ]
    }
   ],
   "source": [
    "# The Rural Mmunicipalities\n",
    "\n",
    "rural_shapes['cvegeo_mun'] = rural_shapes['ent_code'] + rural_shapes['mun_code']\n",
    "rural_municipalitites = rural_shapes[['cvegeo_mun', 'geometry']]\n",
    "rural_municipalitites = rural_municipalitites.drop_duplicates('cvegeo_mun')\n",
    "print(rural_municipalitites.shape)"
   ]
  },
  {
   "cell_type": "code",
   "execution_count": 16,
   "metadata": {
    "scrolled": true
   },
   "outputs": [
    {
     "data": {
      "text/plain": [
       "(2463, 3)"
      ]
     },
     "execution_count": 16,
     "metadata": {},
     "output_type": "execute_result"
    }
   ],
   "source": [
    "municipalities = urban_municipalitites.merge(rural_municipalitites, on='cvegeo_mun', how='outer')\n",
    "municipalities.shape"
   ]
  },
  {
   "cell_type": "markdown",
   "metadata": {},
   "source": [
    "# Rural"
   ]
  },
  {
   "cell_type": "code",
   "execution_count": 30,
   "metadata": {},
   "outputs": [
    {
     "name": "stdout",
     "output_type": "stream",
     "text": [
      "(299715, 17)\n"
     ]
    },
    {
     "data": {
      "text/html": [
       "<div>\n",
       "<style scoped>\n",
       "    .dataframe tbody tr th:only-of-type {\n",
       "        vertical-align: middle;\n",
       "    }\n",
       "\n",
       "    .dataframe tbody tr th {\n",
       "        vertical-align: top;\n",
       "    }\n",
       "\n",
       "    .dataframe thead th {\n",
       "        text-align: right;\n",
       "    }\n",
       "</style>\n",
       "<table border=\"1\" class=\"dataframe\">\n",
       "  <thead>\n",
       "    <tr style=\"text-align: right;\">\n",
       "      <th></th>\n",
       "      <th>map</th>\n",
       "      <th>ent_code</th>\n",
       "      <th>ent_name</th>\n",
       "      <th>ab_name</th>\n",
       "      <th>mun_code</th>\n",
       "      <th>mun_name</th>\n",
       "      <th>loc_code</th>\n",
       "      <th>loc_name</th>\n",
       "      <th>ambit</th>\n",
       "      <th>latitude</th>\n",
       "      <th>longitude</th>\n",
       "      <th>altitude</th>\n",
       "      <th>cart_code</th>\n",
       "      <th>total_pop</th>\n",
       "      <th>male_pop</th>\n",
       "      <th>female_pop</th>\n",
       "      <th>total_inhabited_households</th>\n",
       "    </tr>\n",
       "  </thead>\n",
       "  <tbody>\n",
       "    <tr>\n",
       "      <th>1</th>\n",
       "      <td>010010094</td>\n",
       "      <td>01</td>\n",
       "      <td>Aguascalientes</td>\n",
       "      <td>Ags.</td>\n",
       "      <td>001</td>\n",
       "      <td>Aguascalientes</td>\n",
       "      <td>0094</td>\n",
       "      <td>Granja Adelita</td>\n",
       "      <td>R</td>\n",
       "      <td>21.871875</td>\n",
       "      <td>-102.373531</td>\n",
       "      <td>1902</td>\n",
       "      <td>F13D18</td>\n",
       "      <td>14</td>\n",
       "      <td>0</td>\n",
       "      <td>0</td>\n",
       "      <td>2</td>\n",
       "    </tr>\n",
       "  </tbody>\n",
       "</table>\n",
       "</div>"
      ],
      "text/plain": [
       "         map ent_code        ent_name ab_name mun_code        mun_name  \\\n",
       "1  010010094       01  Aguascalientes    Ags.      001  Aguascalientes   \n",
       "\n",
       "  loc_code        loc_name ambit   latitude   longitude altitude cart_code  \\\n",
       "1     0094  Granja Adelita     R  21.871875 -102.373531     1902    F13D18   \n",
       "\n",
       "   total_pop  male_pop  female_pop  total_inhabited_households  \n",
       "1         14         0           0                           2  "
      ]
     },
     "metadata": {},
     "output_type": "display_data"
    }
   ],
   "source": [
    "# We filter from the cunique catalogue the localities which are in rural zones.\n",
    "\n",
    "rural_catalogue = cat[cat.ambit == 'R']\n",
    "print(rural_catalogue.shape)\n",
    "display(rural_catalogue.head(1))"
   ]
  },
  {
   "cell_type": "code",
   "execution_count": 50,
   "metadata": {},
   "outputs": [
    {
     "data": {
      "text/plain": [
       "(17469, 6)"
      ]
     },
     "execution_count": 50,
     "metadata": {},
     "output_type": "execute_result"
    }
   ],
   "source": [
    "rural_shapes.shape"
   ]
  },
  {
   "cell_type": "code",
   "execution_count": 40,
   "metadata": {
    "scrolled": true
   },
   "outputs": [
    {
     "data": {
      "text/plain": [
       "(299715, 17)"
      ]
     },
     "execution_count": 40,
     "metadata": {},
     "output_type": "execute_result"
    }
   ],
   "source": [
    "rural_catalogue.shape"
   ]
  },
  {
   "cell_type": "code",
   "execution_count": null,
   "metadata": {},
   "outputs": [],
   "source": []
  }
 ],
 "metadata": {
  "kernelspec": {
   "display_name": "Python 3",
   "language": "python",
   "name": "python3"
  },
  "language_info": {
   "codemirror_mode": {
    "name": "ipython",
    "version": 3
   },
   "file_extension": ".py",
   "mimetype": "text/x-python",
   "name": "python",
   "nbconvert_exporter": "python",
   "pygments_lexer": "ipython3",
   "version": "3.7.3"
  }
 },
 "nbformat": 4,
 "nbformat_minor": 2
}
