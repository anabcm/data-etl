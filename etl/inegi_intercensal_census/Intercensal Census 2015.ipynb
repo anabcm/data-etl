{
 "cells": [
  {
   "cell_type": "code",
   "execution_count": null,
   "metadata": {},
   "outputs": [],
   "source": [
    "from bs4 import BeautifulSoup\n",
    "import numpy as np\n",
    "import pandas as pd\n",
    "import requests\n",
    "import zipfile, io\n",
    "import glob"
   ]
  },
  {
   "cell_type": "code",
   "execution_count": null,
   "metadata": {},
   "outputs": [],
   "source": [
    "# Downloads datasets from Encuesta Intercensal 2015\n",
    "for i in range(1, 33):\n",
    "    r = requests.get(\"https://www.inegi.org.mx/contenidos/programas/intercensal/2015/microdatos/eic2015_{}_csv.zip\".format(str(i).zfill(2)))\n",
    "    z = zipfile.ZipFile(io.BytesIO(r.content))\n",
    "    z.extractall(\"data_temp/\")"
   ]
  },
  {
   "cell_type": "code",
   "execution_count": null,
   "metadata": {},
   "outputs": [],
   "source": [
    "# Reads Housing data\n",
    "df_h = pd.concat([\n",
    "    pd.read_csv(file, index_col=None, header=0, encoding=\"latin-1\") \n",
    "    for file in glob.glob(\"data_temp/TR_VIVIENDA*.CSV\")\n",
    "], axis=0, ignore_index=True)"
   ]
  },
  {
   "cell_type": "code",
   "execution_count": null,
   "metadata": {},
   "outputs": [],
   "source": [
    "# Reads Population data\n",
    "df_p = pd.concat([\n",
    "    pd.read_csv(file, index_col=None, header=0, encoding=\"latin-1\") \n",
    "    for file in glob.glob(\"data_temp/TR_PERSONA*.CSV\")\n",
    "], axis=0, ignore_index=True)"
   ]
  }
 ],
 "metadata": {
  "kernelspec": {
   "display_name": "Python 3",
   "language": "python",
   "name": "python3"
  },
  "language_info": {
   "codemirror_mode": {
    "name": "ipython",
    "version": 3
   },
   "file_extension": ".py",
   "mimetype": "text/x-python",
   "name": "python",
   "nbconvert_exporter": "python",
   "pygments_lexer": "ipython3",
   "version": "3.7.1"
  }
 },
 "nbformat": 4,
 "nbformat_minor": 2
}
