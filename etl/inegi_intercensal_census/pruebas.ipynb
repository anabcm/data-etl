{
 "cells": [
  {
   "cell_type": "code",
   "execution_count": null,
   "metadata": {},
   "outputs": [],
   "source": [
    "#df[df[\"loc50k\"] == \"0054\"].head(15)\n",
    "#df[[\"ENT\", \"NOM_MUN\", \"MUN\", \"LOC50K\", \"NOM_LOC\", \"UPM\"]].drop_duplicates()[df[\"LOC50K\"] == \"0001\"]\n",
    "#temp.min()\n",
    "#pivote2 = df.groupby('UPM')['ID_PERSONA'].nunique()\n",
    "#pivote2\n",
    "#Correr si Factor es int, no str\n",
    "#df[\"FACTOR\"].sum()\n",
    "#len(df[\"ESTRATO\"].unique())\n",
    "#pivote = df.groupby('ID_VIV')['ID_PERSONA'].nunique()\n",
    "#len(pivote)\n",
    "#count(df[\"ID_VIV\"].unique())\n",
    "#list(df[\"HIJOS_NAC_VIVOS\"].unique())\n",
    "#df[\"parent\"].unique()\n",
    "#df[\"population\"].dtypes\n",
    "#df.groupby([\"mun_id\", \"loc_id\", \"sexo\", \"parent\", \"sersalud\"]).sum().reset_index()\n",
    "#df[\"population\"].sum()"
   ]
  }
 ],
 "metadata": {
  "kernelspec": {
   "display_name": "Python 3",
   "language": "python",
   "name": "python3"
  },
  "language_info": {
   "codemirror_mode": {
    "name": "ipython",
    "version": 3
   },
   "file_extension": ".py",
   "mimetype": "text/x-python",
   "name": "python",
   "nbconvert_exporter": "python",
   "pygments_lexer": "ipython3",
   "version": "3.7.0"
  }
 },
 "nbformat": 4,
 "nbformat_minor": 2
}
