{
 "cells": [
  {
   "cell_type": "code",
   "execution_count": 1,
   "metadata": {},
   "outputs": [],
   "source": [
    "# Import libraries\n",
    "import pandas as pd"
   ]
  },
  {
   "cell_type": "code",
   "execution_count": 12,
   "metadata": {},
   "outputs": [],
   "source": [
    "# Read dataset from Google Cloud\n",
    "df = pd.read_csv(\"https://storage.googleapis.com/datamexico-data/geo/AGEEML_2019517152111.csv\", low_memory=False, chunksize=10**4)\n",
    "df = pd.concat(df)"
   ]
  },
  {
   "cell_type": "code",
   "execution_count": 18,
   "metadata": {},
   "outputs": [],
   "source": [
    "df.columns = df.columns.str.lower()"
   ]
  },
  {
   "cell_type": "code",
   "execution_count": 19,
   "metadata": {},
   "outputs": [
    {
     "data": {
      "text/html": [
       "<div>\n",
       "<style scoped>\n",
       "    .dataframe tbody tr th:only-of-type {\n",
       "        vertical-align: middle;\n",
       "    }\n",
       "\n",
       "    .dataframe tbody tr th {\n",
       "        vertical-align: top;\n",
       "    }\n",
       "\n",
       "    .dataframe thead th {\n",
       "        text-align: right;\n",
       "    }\n",
       "</style>\n",
       "<table border=\"1\" class=\"dataframe\">\n",
       "  <thead>\n",
       "    <tr style=\"text-align: right;\">\n",
       "      <th></th>\n",
       "      <th>mapa</th>\n",
       "      <th>cve_ent</th>\n",
       "      <th>nom_ent</th>\n",
       "      <th>nom_abr</th>\n",
       "      <th>cve_mun</th>\n",
       "      <th>nom_mun</th>\n",
       "      <th>cve_loc</th>\n",
       "      <th>nom_loc</th>\n",
       "      <th>ámbito</th>\n",
       "      <th>latitud</th>\n",
       "      <th>longitud</th>\n",
       "      <th>lat_decimal</th>\n",
       "      <th>lon_decimal</th>\n",
       "      <th>altitud</th>\n",
       "      <th>cve_carta</th>\n",
       "      <th>pob_total</th>\n",
       "      <th>pob_masculina</th>\n",
       "      <th>pob_femenina</th>\n",
       "      <th>total de viviendas habitadas</th>\n",
       "    </tr>\n",
       "  </thead>\n",
       "  <tbody>\n",
       "    <tr>\n",
       "      <th>0</th>\n",
       "      <td>10010001</td>\n",
       "      <td>1</td>\n",
       "      <td>Aguascalientes</td>\n",
       "      <td>Ags.</td>\n",
       "      <td>1</td>\n",
       "      <td>Aguascalientes</td>\n",
       "      <td>1</td>\n",
       "      <td>Aguascalientes</td>\n",
       "      <td>U</td>\n",
       "      <td>21°52´47.362N\"</td>\n",
       "      <td>102°17´45.768W\"</td>\n",
       "      <td>21.879823</td>\n",
       "      <td>-102.296047</td>\n",
       "      <td>1878</td>\n",
       "      <td>F13D19</td>\n",
       "      <td>722250</td>\n",
       "      <td>348722</td>\n",
       "      <td>373528</td>\n",
       "      <td>185120</td>\n",
       "    </tr>\n",
       "    <tr>\n",
       "      <th>1</th>\n",
       "      <td>10010094</td>\n",
       "      <td>1</td>\n",
       "      <td>Aguascalientes</td>\n",
       "      <td>Ags.</td>\n",
       "      <td>1</td>\n",
       "      <td>Aguascalientes</td>\n",
       "      <td>94</td>\n",
       "      <td>Granja Adelita</td>\n",
       "      <td>R</td>\n",
       "      <td>21°52´18.749N\"</td>\n",
       "      <td>102°22´24.710W\"</td>\n",
       "      <td>21.871875</td>\n",
       "      <td>-102.373531</td>\n",
       "      <td>1902</td>\n",
       "      <td>F13D18</td>\n",
       "      <td>14</td>\n",
       "      <td>0</td>\n",
       "      <td>0</td>\n",
       "      <td>2</td>\n",
       "    </tr>\n",
       "    <tr>\n",
       "      <th>2</th>\n",
       "      <td>10010096</td>\n",
       "      <td>1</td>\n",
       "      <td>Aguascalientes</td>\n",
       "      <td>Ags.</td>\n",
       "      <td>1</td>\n",
       "      <td>Aguascalientes</td>\n",
       "      <td>96</td>\n",
       "      <td>Agua Azul</td>\n",
       "      <td>R</td>\n",
       "      <td>21°53´01.522N\"</td>\n",
       "      <td>102°21´25.639W\"</td>\n",
       "      <td>21.883756</td>\n",
       "      <td>-102.357122</td>\n",
       "      <td>1861</td>\n",
       "      <td>F13D18</td>\n",
       "      <td>37</td>\n",
       "      <td>21</td>\n",
       "      <td>16</td>\n",
       "      <td>11</td>\n",
       "    </tr>\n",
       "    <tr>\n",
       "      <th>3</th>\n",
       "      <td>10010100</td>\n",
       "      <td>1</td>\n",
       "      <td>Aguascalientes</td>\n",
       "      <td>Ags.</td>\n",
       "      <td>1</td>\n",
       "      <td>Aguascalientes</td>\n",
       "      <td>100</td>\n",
       "      <td>Rancho Alegre</td>\n",
       "      <td>R</td>\n",
       "      <td>21°51´16.556N\"</td>\n",
       "      <td>102°22´21.884W\"</td>\n",
       "      <td>21.854599</td>\n",
       "      <td>-102.372746</td>\n",
       "      <td>1879</td>\n",
       "      <td>F13D18</td>\n",
       "      <td>10</td>\n",
       "      <td>0</td>\n",
       "      <td>0</td>\n",
       "      <td>1</td>\n",
       "    </tr>\n",
       "    <tr>\n",
       "      <th>4</th>\n",
       "      <td>10010102</td>\n",
       "      <td>1</td>\n",
       "      <td>Aguascalientes</td>\n",
       "      <td>Ags.</td>\n",
       "      <td>1</td>\n",
       "      <td>Aguascalientes</td>\n",
       "      <td>102</td>\n",
       "      <td>Los Arbolitos [Rancho]</td>\n",
       "      <td>R</td>\n",
       "      <td>21°46´48.650N\"</td>\n",
       "      <td>102°21´26.261W\"</td>\n",
       "      <td>21.780181</td>\n",
       "      <td>-102.357295</td>\n",
       "      <td>1861</td>\n",
       "      <td>F13D18</td>\n",
       "      <td>7</td>\n",
       "      <td>0</td>\n",
       "      <td>0</td>\n",
       "      <td>1</td>\n",
       "    </tr>\n",
       "  </tbody>\n",
       "</table>\n",
       "</div>"
      ],
      "text/plain": [
       "       mapa  cve_ent         nom_ent nom_abr  cve_mun         nom_mun  \\\n",
       "0  10010001        1  Aguascalientes    Ags.        1  Aguascalientes   \n",
       "1  10010094        1  Aguascalientes    Ags.        1  Aguascalientes   \n",
       "2  10010096        1  Aguascalientes    Ags.        1  Aguascalientes   \n",
       "3  10010100        1  Aguascalientes    Ags.        1  Aguascalientes   \n",
       "4  10010102        1  Aguascalientes    Ags.        1  Aguascalientes   \n",
       "\n",
       "   cve_loc                 nom_loc ámbito         latitud         longitud  \\\n",
       "0        1          Aguascalientes      U  21°52´47.362N\"  102°17´45.768W\"   \n",
       "1       94          Granja Adelita      R  21°52´18.749N\"  102°22´24.710W\"   \n",
       "2       96               Agua Azul      R  21°53´01.522N\"  102°21´25.639W\"   \n",
       "3      100           Rancho Alegre      R  21°51´16.556N\"  102°22´21.884W\"   \n",
       "4      102  Los Arbolitos [Rancho]      R  21°46´48.650N\"  102°21´26.261W\"   \n",
       "\n",
       "   lat_decimal  lon_decimal altitud cve_carta  pob_total  pob_masculina  \\\n",
       "0    21.879823  -102.296047    1878    F13D19     722250         348722   \n",
       "1    21.871875  -102.373531    1902    F13D18         14              0   \n",
       "2    21.883756  -102.357122    1861    F13D18         37             21   \n",
       "3    21.854599  -102.372746    1879    F13D18         10              0   \n",
       "4    21.780181  -102.357295    1861    F13D18          7              0   \n",
       "\n",
       "   pob_femenina  total de viviendas habitadas  \n",
       "0        373528                        185120  \n",
       "1             0                             2  \n",
       "2            16                            11  \n",
       "3             0                             1  \n",
       "4             0                             1  "
      ]
     },
     "execution_count": 19,
     "metadata": {},
     "output_type": "execute_result"
    }
   ],
   "source": [
    "df.head()"
   ]
  },
  {
   "cell_type": "code",
   "execution_count": 20,
   "metadata": {},
   "outputs": [
    {
     "data": {
      "text/plain": [
       "570"
      ]
     },
     "execution_count": 20,
     "metadata": {},
     "output_type": "execute_result"
    }
   ],
   "source": [
    "len(df.cve_mun.unique())"
   ]
  },
  {
   "cell_type": "code",
   "execution_count": 25,
   "metadata": {},
   "outputs": [],
   "source": [
    "df[\"temp_cve_ent\"] = df[\"cve_ent\"].astype(str).str.zfill(2)\n",
    "df[\"temp_cve_mun\"] = df[\"cve_mun\"].astype(str).str.zfill(3)"
   ]
  },
  {
   "cell_type": "code",
   "execution_count": 26,
   "metadata": {},
   "outputs": [],
   "source": [
    "df[\"temp_cve_full\"] = df[\"temp_cve_ent\"] + df[\"temp_cve_mun\"]"
   ]
  },
  {
   "cell_type": "code",
   "execution_count": 28,
   "metadata": {},
   "outputs": [
    {
     "data": {
      "text/plain": [
       "2463"
      ]
     },
     "execution_count": 28,
     "metadata": {},
     "output_type": "execute_result"
    }
   ],
   "source": [
    "len(df.temp_cve_full.unique())"
   ]
  }
 ],
 "metadata": {
  "kernelspec": {
   "display_name": "Python 3",
   "language": "python",
   "name": "python3"
  },
  "language_info": {
   "codemirror_mode": {
    "name": "ipython",
    "version": 3
   },
   "file_extension": ".py",
   "mimetype": "text/x-python",
   "name": "python",
   "nbconvert_exporter": "python",
   "pygments_lexer": "ipython3",
   "version": "3.7.1"
  }
 },
 "nbformat": 4,
 "nbformat_minor": 2
}
