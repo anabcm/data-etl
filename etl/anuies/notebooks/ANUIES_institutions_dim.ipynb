{
 "cells": [
  {
   "cell_type": "code",
   "execution_count": null,
   "metadata": {},
   "outputs": [],
   "source": [
    "import nltk\n",
    "import glob\n",
    "import pandas as pd\n",
    "import unicodedata\n",
    "\n",
    "def norm(string):\n",
    "    try:\n",
    "        return unicodedata.normalize('NFKD', string).encode('ASCII', 'ignore').decode(\"latin-1\")\n",
    "    except:\n",
    "        return string\n",
    "\n",
    "def format_text(df, cols_names=None, stopwords=None):\n",
    "\n",
    "    # format\n",
    "    for ele in cols_names:\n",
    "        df[ele] = df[ele].str.title().str.strip()\n",
    "        for ene in stopwords:\n",
    "            df[ele] = df[ele].str.replace(' ' + ene.title() + ' ', ' ' + ene + ' ')\n",
    "\n",
    "    return df\n",
    "\n",
    "data = glob.glob('*.xlsx')"
   ]
  },
  {
   "cell_type": "markdown",
   "metadata": {},
   "source": [
    "# Intitution - campus dimension"
   ]
  },
  {
   "cell_type": "code",
   "execution_count": null,
   "metadata": {
    "scrolled": true
   },
   "outputs": [],
   "source": [
    "df = pd.DataFrame()\n",
    "temp = pd.DataFrame()\n",
    "\n",
    "for ele in data:\n",
    "    print('Current file:', ele)\n",
    "    temp = pd.read_excel(ele, header=1)\n",
    "    temp.rename(columns={'NOMBRE INSTITUCIÓN': 'institution_id',\n",
    "                         'NOMBRE INSTITUCIÓN ANUIES': 'institution_id',\n",
    "                         'NOMBRE ESCUELA/CAMPUS/PLANTEL': 'campus_id',\n",
    "                         'NOMBRE ESCUELA/CAMPUS ANUIES': 'campus_id'}, inplace=True)\n",
    "    temp = temp[['institution_id', 'campus_id']].copy()\n",
    "    for col in ['institution_id', 'campus_id']:\n",
    "        temp[col] = temp[col].ffill()\n",
    "    \n",
    "    temp['backup_institution'] = temp['institution_id']\n",
    "    temp['backup_campus'] = temp['campus_id']\n",
    "    temp.drop_duplicates(subset=['institution_id', 'campus_id'], inplace=True)\n",
    "    temp['version'] = ele\n",
    "    temp.fillna(0, inplace=True)\n",
    "    for col in ['backup_institution', 'backup_campus']:\n",
    "        temp[col] = temp[col].astype(str).str.strip()\n",
    "    temp['backup'] = (temp['backup_institution'] + temp['backup_campus']).str.strip()\n",
    "    temp = temp[['institution_id', 'campus_id', 'backup', 'version']].copy()\n",
    "    df = df.append(temp, sort=False)\n",
    "\n",
    "version_replace = {\n",
    "    'Anuario_Educacion_Superior_2019-2020_temp.xlsx': 2020,\n",
    "    'anuies_licenciatura_2016-2017.xlsx': 2017,\n",
    "    'anuies_licenciatura_2017-2018.xlsx': 2018,\n",
    "    'anuies_licenciatura_2018-2019.xlsx': 2019,\n",
    "    'anuies_posgrado_2016-2017.xlsx': 2017,\n",
    "    'anuies_posgrado_2017-2018.xlsx': 2018,\n",
    "    'anuies_posgrado_2018-2019.xlsx': 2019\n",
    "}\n",
    "\n",
    "df['version'].replace(version_replace, inplace=True)"
   ]
  },
  {
   "cell_type": "code",
   "execution_count": null,
   "metadata": {},
   "outputs": [],
   "source": [
    "# t = df.copy()\n",
    "df = t.copy()"
   ]
  },
  {
   "cell_type": "markdown",
   "metadata": {},
   "source": [
    "# Raw -> Processed"
   ]
  },
  {
   "cell_type": "code",
   "execution_count": null,
   "metadata": {},
   "outputs": [],
   "source": [
    "df = df.loc[~df['backup'].str.upper().str.contains('TOTAL')].copy()\n",
    "\n",
    "df.drop_duplicates(subset=['backup'], inplace=True)\n",
    "\n",
    "# text processing\n",
    "for col in ['institution_id', 'campus_id']:\n",
    "    \n",
    "    # original names\n",
    "    df['{}_name'.format(col.split('_')[0])] = df[col]\n",
    "\n",
    "    df[col] = df[col].str.strip()\n",
    "\n",
    "    df[col] = df[col].apply(lambda x: norm(x))\n",
    "\n",
    "    exceptions = ['\"']\n",
    "    for e in exceptions:\n",
    "        df[col] = df[col].str.replace(e, '')\n",
    "\n",
    "    df[col] = df[col].str.replace('  ', ' ')\n",
    "    df[col] = df[col].str.replace(' - ', ' ')\n",
    "    df[col] = df[col].str.replace(', ', ' ')\n",
    "    \n",
    "    df[col] = df[col].str.replace(' (Cehem)', ' ')\n",
    "    df[col] = df[col].str.replace('Esc. ', 'Escuela ')\n",
    "    df[col] = df[col].str.replace('a C', 'A.C.')\n",
    "    \n",
    "    df[col] = df[col].str.strip()\n",
    "\n",
    "institutions_exceptions = {\n",
    "    'Colegio Decroly Plantel Puerto Vallarta': 'Colegio Decroly',\n",
    "    'Escuela Juridica y Forense del Sureste Plantel Pachuca': 'Escuela Juridica y Forense del Sureste',\n",
    "    'Escuela Normal de Licenciatura en Educacion Fisica de Calkini, Campeche': 'Escuela Normal de Licenciatura en Educacion Fisica de Calkini'\n",
    "}\n",
    "\n",
    "df['institution_id'].replace(institutions_exceptions, inplace=True)\n",
    "\n",
    "# stopwords es\n",
    "nltk.download('stopwords')\n",
    "df = format_text(df, ['institution_id', 'campus_id'], stopwords=nltk.corpus.stopwords.words('spanish'))\n",
    "\n",
    "df.shape, df.drop_duplicates(subset=['institution_id', 'campus_id']).shape\n",
    "\n",
    "df['backup_raw'] = (df['institution_id'] + df['campus_id']).str.strip()\n",
    "\n",
    "df.to_csv('raw_to_institution.csv', index=False)"
   ]
  },
  {
   "cell_type": "code",
   "execution_count": null,
   "metadata": {},
   "outputs": [],
   "source": [
    "df.shape, df.drop_duplicates(subset=['institution_id', 'campus_id']).shape"
   ]
  },
  {
   "cell_type": "code",
   "execution_count": null,
   "metadata": {},
   "outputs": [],
   "source": [
    "df.drop_duplicates(subset=['institution_id', 'campus_id'], inplace=True)"
   ]
  },
  {
   "cell_type": "code",
   "execution_count": null,
   "metadata": {},
   "outputs": [],
   "source": [
    "test = df.loc[(df['institution_id'].duplicated()) & (~df['institution_name'].duplicated())].shape[0]\n",
    "if test > 0:\n",
    "    # duplicate ids with different names\n",
    "    duplicated_names = list(df.loc[(df['institution_id'].duplicated()) & (~df['institution_name'].duplicated()), 'institution_id'].unique())\n",
    "\n",
    "    for ele in duplicated_names:\n",
    "\n",
    "        # get latest version of name\n",
    "        latest_name_version = df.loc[df['institution_id'] == ele, 'version'].max()\n",
    "\n",
    "        # set latest institution name to all ids\n",
    "        df.loc[df['institution_id'] == ele, 'institution_name'] = \\\n",
    "            list(df.loc[(df['institution_id'] == ele) & (df['version'] == latest_name_version), 'institution_name'])[0]\n",
    "    print('Duplicate ids fix!')\n",
    "else:\n",
    "    print('Clean ids!')"
   ]
  },
  {
   "cell_type": "markdown",
   "metadata": {},
   "source": [
    "# Processed -> id"
   ]
  },
  {
   "cell_type": "code",
   "execution_count": null,
   "metadata": {},
   "outputs": [],
   "source": [
    "# campus id\n",
    "df['count'] = 1\n",
    "count = 0\n",
    "while df.loc[df.duplicated(subset=['institution_id', 'count'], keep='first')].shape[0] > 0:\n",
    "    df.loc[df.duplicated(subset=['institution_id', 'count'], keep='first'), 'count'] = \\\n",
    "        df.loc[df.duplicated(subset=['institution_id', 'count'], keep='first'), 'count'] + 1\n",
    "    count += 1\n",
    "print('Campus Steps Count:', count)\n",
    "\n",
    "# max_group = str(df['count'].max())\n",
    "# len of institutions = 4\n",
    "max_group = range(5)\n",
    "df['count'] = df['count'].astype(str).str.zfill(len(max_group))\n",
    "\n",
    "institution_id = df.drop_duplicates(subset=['institution_id']).copy()\n",
    "\n",
    "institution_id['id'] = range(1, institution_id.shape[0]+1)\n",
    "\n",
    "df['institution_id_final'] = df['institution_id'].replace(dict(zip(institution_id['institution_id'], institution_id['id'])))\n",
    "\n",
    "df['campus_id'] = (df['institution_id_final'].astype(str) + df['count'].astype(str)).astype(int)\n",
    "df['institution_id'] = df['institution_id_final']\n",
    "df.drop(columns=['version', 'count', 'institution_id_final'], inplace=True)\n",
    "\n",
    "for col in ['institution_name', 'campus_name']:\n",
    "    df[col] = df[col].str.title()\n",
    "\n",
    "df.to_csv('dim_institutions.csv', index=False)"
   ]
  }
 ],
 "metadata": {
  "kernelspec": {
   "display_name": "Python 3",
   "language": "python",
   "name": "python3"
  },
  "language_info": {
   "codemirror_mode": {
    "name": "ipython",
    "version": 3
   },
   "file_extension": ".py",
   "mimetype": "text/x-python",
   "name": "python",
   "nbconvert_exporter": "python",
   "pygments_lexer": "ipython3",
   "version": "3.8.5"
  }
 },
 "nbformat": 4,
 "nbformat_minor": 4
}
