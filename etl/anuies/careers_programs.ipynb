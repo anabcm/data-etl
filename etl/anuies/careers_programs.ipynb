{
 "cells": [
  {
   "cell_type": "code",
   "execution_count": null,
   "metadata": {},
   "outputs": [],
   "source": []
  },
  {
   "cell_type": "code",
   "execution_count": null,
   "metadata": {},
   "outputs": [],
   "source": [
    "def format_text(df, cols_names=None, stopwords=None):\n",
    "\n",
    "    # format\n",
    "    for ele in cols_names:\n",
    "        df[ele] = df[ele].str.title()\n",
    "        for ene in stopwords:\n",
    "            df[ele] = df[ele].str.replace(' ' + ene.title() + ' ', ' ' + ene + ' ')\n",
    "\n",
    "    return df"
   ]
  },
  {
   "cell_type": "code",
   "execution_count": null,
   "metadata": {},
   "outputs": [],
   "source": [
    "import pandas as pd\n",
    "from bamboo_lib.connectors.models import Connector\n",
    "from bamboo_lib.models import EasyPipeline, PipelineStep, Parameter\n",
    "from bamboo_lib.steps import LoadStep\n",
    "from sklearn.feature_extraction import stop_words"
   ]
  },
  {
   "cell_type": "code",
   "execution_count": null,
   "metadata": {},
   "outputs": [],
   "source": [
    "class ReadStep(PipelineStep):\n",
    "    def run_step(self, prev, params):\n",
    "        # careers\n",
    "        url = 'https://docs.google.com/spreadsheets/d/e/2PACX-1vTji_9aF8v-wvkRu1G0_1Cgq2NxrEjM0ToMoKWwc2eW_b-aOMXScstb8YDpSt2r6a6iU2AQXpkNlfws/pub?output=csv'\n",
    "        df = pd.read_csv(url)\n",
    "        # programs\n",
    "        url = 'https://docs.google.com/spreadsheets/d/e/2PACX-1vTRqe4aa9Maq0WOZTq6DzpflyyGUhTHMoy5l_nfrrmL0fG0f5ccnRoEDg8klrl1JbynwPuwIuTDhy-z/pub?output=csv'\n",
    "        df_program = pd.read_csv(url)\n",
    "        return df"
   ]
  },
  {
   "cell_type": "code",
   "execution_count": null,
   "metadata": {},
   "outputs": [],
   "source": [
    "class TransformStep(PipelineStep):\n",
    "    def run_step(self, prev, params):\n",
    "        df = prev\n",
    "        # careers\n",
    "        # stopwords\n",
    "        stopwords_es = ['a', 'e', 'ante', 'con', 'contra', 'de', 'desde', 'la', 'lo', 'las', 'los', 'y']\n",
    "        stopwords_en = list(stop_words.ENGLISH_STOP_WORDS)\n",
    "\n",
    "        cols_es = ['name_es']\n",
    "        cols_en = ['name_en']\n",
    "\n",
    "        #format\n",
    "        df = format_text(df, cols_names=cols_es, stopwords=stopwords_es)\n",
    "        df = format_text(df, cols_names=cols_en, stopwords=stopwords_en)\n",
    "\n",
    "        for col in ['code', 'area']:\n",
    "            df[col] = df[col].astype('int')\n",
    "\n",
    "\n",
    "        # programs\n",
    "        cols_es = ['area_es', 'field_es', 'subfield_es', 'speciality_es']\n",
    "        cols_en = ['area_en', 'field_en', 'subfield_en', 'speciality_en']\n",
    "\n",
    "        df_program = format_text(df_program, cols_names=cols_es, stopwords=stopwords_es)\n",
    "        df_program = format_text(df_program, cols_names=cols_en, stopwords=stopwords_en)\n",
    "\n",
    "        for col in ['area_id', 'field_id', 'subfield_id', 'speciality_id']:\n",
    "            df_program[col] = df_program[col].astype('int')\n",
    "\n",
    "        # merge\n",
    "        df = df.merge(df_program, left_on='area', right_on='speciality_id')"
   ]
  },
  {
   "cell_type": "code",
   "execution_count": null,
   "metadata": {},
   "outputs": [],
   "source": [
    "class ProgramsCodesPipeline(EasyPipeline):\n",
    "    @staticmethod\n",
    "    def description():\n",
    "        return 'Processes Careers codes from Mexico'\n",
    "\n",
    "    @staticmethod\n",
    "    def website():\n",
    "        return 'http://datawheel.us'\n",
    "\n",
    "    @staticmethod\n",
    "    def steps(params, **kwargs):\n",
    "\n",
    "        db_connector = Connector.fetch('clickhouse-database', open('../conns.yaml'))\n",
    "        dtype = {\n",
    "            'area_id':       'UInt8', \n",
    "            'area_es':       'String',\n",
    "            'area_en':       'String',\n",
    "            'field_id':      'UInt8',\n",
    "            'field_es':      'String',\n",
    "            'field_en':      'String',\n",
    "            'subfield_id':   'UInt16',\n",
    "            'subfield_es':   'String',\n",
    "            'subfield_en':   'String',\n",
    "            'speciality_id': 'UInt32',\n",
    "            'speciality_es': 'String',\n",
    "            'speciality_en': 'String',\n",
    "            'code':          'UInt32',\n",
    "            'name_es':       'String',\n",
    "            'name_en':       'String',\n",
    "        }\n",
    "\n",
    "        # Definition of each step\n",
    "        read_step = ReadStep()\n",
    "        clean_step = CleanStep()\n",
    "        load_step = LoadStep('dim_careers_anuies', db_connector, if_exists='drop', pk=['code'], dtype=dtype)\n",
    "        \n",
    "        return [read_step, clean_step, load_step]"
   ]
  },
  {
   "cell_type": "code",
   "execution_count": null,
   "metadata": {},
   "outputs": [],
   "source": []
  },
  {
   "cell_type": "code",
   "execution_count": null,
   "metadata": {},
   "outputs": [],
   "source": []
  }
 ],
 "metadata": {
  "kernelspec": {
   "display_name": "Python 3",
   "language": "python",
   "name": "python3"
  },
  "language_info": {
   "codemirror_mode": {
    "name": "ipython",
    "version": 3
   },
   "file_extension": ".py",
   "mimetype": "text/x-python",
   "name": "python",
   "nbconvert_exporter": "python",
   "pygments_lexer": "ipython3",
   "version": "3.7.1"
  }
 },
 "nbformat": 4,
 "nbformat_minor": 2
}
