{
 "cells": [
  {
   "cell_type": "code",
   "execution_count": 1,
   "metadata": {},
   "outputs": [],
   "source": [
    "import pandas as pd"
   ]
  },
  {
   "cell_type": "code",
   "execution_count": 2,
   "metadata": {},
   "outputs": [],
   "source": [
    "df_labels = pd.ExcelFile(\"https://docs.google.com/spreadsheets/d/e/2PACX-1vR08Js9Sh4nNTMe5uBcsDUFedG5MOjIf90p6EHAr1_sWY5kpnI3xUvyPHzQpTEUrXz1pskaoc0uyea6/pub?output=xlsx\")"
   ]
  },
  {
   "cell_type": "code",
   "execution_count": 3,
   "metadata": {},
   "outputs": [],
   "source": [
    "df = pd.read_csv(\"https://storage.googleapis.com/datamexico-data/inegi_intercensal_census/TR_PERSONA32.CSV\", \n",
    "                 dtype=str, \n",
    "                 index_col=None, \n",
    "                 header=0, \n",
    "                 encoding=\"latin-1\")"
   ]
  },
  {
   "cell_type": "code",
   "execution_count": 4,
   "metadata": {},
   "outputs": [],
   "source": [
    "df.columns = df.columns.str.lower()"
   ]
  },
  {
   "cell_type": "code",
   "execution_count": 5,
   "metadata": {},
   "outputs": [],
   "source": [
    " # Adding IDs columns and renaming factor as population\n",
    "df[\"loc_id\"] = df[\"ent\"] + df[\"mun\"] + df[\"loc50k\"]"
   ]
  },
  {
   "cell_type": "code",
   "execution_count": 6,
   "metadata": {},
   "outputs": [],
   "source": [
    " # Transforming certains str columns into int values\n",
    "df[\"loc_id\"] = df[\"loc_id\"].astype(int)\n",
    "df[\"factor\"] = df[\"factor\"].astype(int)"
   ]
  },
  {
   "cell_type": "code",
   "execution_count": 7,
   "metadata": {
    "scrolled": true
   },
   "outputs": [
    {
     "name": "stdout",
     "output_type": "stream",
     "text": [
      "<class 'pandas.core.frame.DataFrame'>\n",
      "RangeIndex: 462568 entries, 0 to 462567\n",
      "Data columns (total 87 columns):\n",
      "id_viv                462568 non-null object\n",
      "id_persona            462568 non-null object\n",
      "ent                   462568 non-null object\n",
      "nom_ent               462568 non-null object\n",
      "mun                   462568 non-null object\n",
      "nom_mun               462568 non-null object\n",
      "loc50k                462568 non-null object\n",
      "nom_loc               462568 non-null object\n",
      "cobertura             462568 non-null object\n",
      "estrato               462568 non-null object\n",
      "upm                   462568 non-null object\n",
      "factor                462568 non-null int32\n",
      "numper                462568 non-null object\n",
      "sexo                  462568 non-null object\n",
      "edad                  462568 non-null object\n",
      "parent                462568 non-null object\n",
      "parent_otro_c         462568 non-null object\n",
      "ident_madre           462568 non-null object\n",
      "ident_padre           462568 non-null object\n",
      "sersalud              462568 non-null object\n",
      "afrodes               462568 non-null object\n",
      "acta_nac              462568 non-null object\n",
      "dhsersal1             462568 non-null object\n",
      "dhsersal2             13891 non-null object\n",
      "perte_indigena        462568 non-null object\n",
      "ent_pais_nac          462568 non-null object\n",
      "nacionalidad          462568 non-null object\n",
      "hlengua               435444 non-null object\n",
      "qdialect_c            1148 non-null object\n",
      "qdialect_inali        1148 non-null object\n",
      "hespanol              1148 non-null object\n",
      "elengua               434296 non-null object\n",
      "asisten               435444 non-null object\n",
      "mun_asi               136232 non-null object\n",
      "nom_mun_asi           136232 non-null object\n",
      "ent_pais_asi          136268 non-null object\n",
      "tie_traslado_escu     136268 non-null object\n",
      "med_traslado_esc1     129629 non-null object\n",
      "med_traslado_esc2     2593 non-null object\n",
      "med_traslado_esc3     85 non-null object\n",
      "escolari              435444 non-null object\n",
      "nivacad               435444 non-null object\n",
      "alfabet               416541 non-null object\n",
      "escoacum              435444 non-null object\n",
      "mun_res10             411395 non-null object\n",
      "nom_mun_res10         411395 non-null object\n",
      "ent_pais_res10        416541 non-null object\n",
      "situa_conyugal        351821 non-null object\n",
      "ident_pareja          207684 non-null object\n",
      "conact                351821 non-null object\n",
      "ocupacion_c           130062 non-null object\n",
      "situacion_trab        130062 non-null object\n",
      "aguinaldo             93229 non-null object\n",
      "vacaciones            93229 non-null object\n",
      "servicio_medico       93229 non-null object\n",
      "utilidades            93229 non-null object\n",
      "incap_sueldo          93229 non-null object\n",
      "sar_afore             93229 non-null object\n",
      "credito_vivienda      93229 non-null object\n",
      "ingtrmen              130062 non-null object\n",
      "actividades_c         130062 non-null object\n",
      "mun_trab              129719 non-null object\n",
      "nom_mun_trab          129719 non-null object\n",
      "ent_pais_trab         130062 non-null object\n",
      "tie_traslado_trab     130062 non-null object\n",
      "med_traslado_trab1    115850 non-null object\n",
      "med_traslado_trab2    3398 non-null object\n",
      "med_traslado_trab3    240 non-null object\n",
      "acti_sin_pago1        351821 non-null object\n",
      "acti_sin_pago2        351821 non-null object\n",
      "acti_sin_pago3        351821 non-null object\n",
      "acti_sin_pago4        351821 non-null object\n",
      "acti_sin_pago5        351821 non-null object\n",
      "acti_sin_pago6        351821 non-null object\n",
      "acti_sin_pago7        351821 non-null object\n",
      "acti_sin_pago8        351821 non-null object\n",
      "hijos_nac_vivos       181725 non-null object\n",
      "hijos_fallecidos      124217 non-null object\n",
      "hijos_sobreviv        124217 non-null object\n",
      "fecha_nac_m           124196 non-null object\n",
      "fecha_nac_a           124196 non-null object\n",
      "sobrevivencia         124196 non-null object\n",
      "edad_morir_d          1021 non-null object\n",
      "edad_morir_m          429 non-null object\n",
      "edad_morir_a          656 non-null object\n",
      "tamloc                462568 non-null object\n",
      "loc_id                462568 non-null int32\n",
      "dtypes: int32(2), object(85)\n",
      "memory usage: 303.5+ MB\n"
     ]
    }
   ],
   "source": [
    "df.info()"
   ]
  },
  {
   "cell_type": "code",
   "execution_count": 8,
   "metadata": {},
   "outputs": [],
   "source": [
    "  # List of columns for the next df\n",
    "params = [\"sexo\", \"parent\", \"sersalud\", \"dhsersal1\", \"nacionalidad\"]\n",
    "params_translated = [\"sex\", \"parent\", \"sersalud\", \"dhsersal1\", \"nationality\"]"
   ]
  },
  {
   "cell_type": "code",
   "execution_count": 9,
   "metadata": {},
   "outputs": [],
   "source": [
    "# For cycle in order to change the content of a column from previous id, into the new ones (working for translate too)\n",
    "for sheet in params:\n",
    "    df_l = pd.read_excel(df_labels, sheet)\n",
    "    df[sheet] = df[sheet].astype(int)\n",
    "    df[sheet] = df[sheet].replace(dict(zip(df_l.prev_id, df_l.id)))"
   ]
  },
  {
   "cell_type": "code",
   "execution_count": 10,
   "metadata": {},
   "outputs": [],
   "source": [
    "# Condense df around params list, mun_id and loc_id, and sum over population (factor)\n",
    "df.rename(index=str, columns={\"factor\": \"population\", \"nacionalidad\": \"nationality\", \"sexo\": \"sex\"}, inplace=True)"
   ]
  },
  {
   "cell_type": "code",
   "execution_count": 11,
   "metadata": {},
   "outputs": [
    {
     "data": {
      "text/html": [
       "<div>\n",
       "<style scoped>\n",
       "    .dataframe tbody tr th:only-of-type {\n",
       "        vertical-align: middle;\n",
       "    }\n",
       "\n",
       "    .dataframe tbody tr th {\n",
       "        vertical-align: top;\n",
       "    }\n",
       "\n",
       "    .dataframe thead th {\n",
       "        text-align: right;\n",
       "    }\n",
       "</style>\n",
       "<table border=\"1\" class=\"dataframe\">\n",
       "  <thead>\n",
       "    <tr style=\"text-align: right;\">\n",
       "      <th></th>\n",
       "      <th>sex</th>\n",
       "      <th>parent</th>\n",
       "      <th>sersalud</th>\n",
       "      <th>dhsersal1</th>\n",
       "      <th>nationality</th>\n",
       "    </tr>\n",
       "  </thead>\n",
       "  <tbody>\n",
       "    <tr>\n",
       "      <th>0</th>\n",
       "      <td>2</td>\n",
       "      <td>2</td>\n",
       "      <td>5</td>\n",
       "      <td>8</td>\n",
       "      <td>1</td>\n",
       "    </tr>\n",
       "    <tr>\n",
       "      <th>1</th>\n",
       "      <td>1</td>\n",
       "      <td>1</td>\n",
       "      <td>1</td>\n",
       "      <td>8</td>\n",
       "      <td>1</td>\n",
       "    </tr>\n",
       "    <tr>\n",
       "      <th>2</th>\n",
       "      <td>1</td>\n",
       "      <td>3</td>\n",
       "      <td>6</td>\n",
       "      <td>8</td>\n",
       "      <td>1</td>\n",
       "    </tr>\n",
       "    <tr>\n",
       "      <th>3</th>\n",
       "      <td>1</td>\n",
       "      <td>3</td>\n",
       "      <td>6</td>\n",
       "      <td>8</td>\n",
       "      <td>1</td>\n",
       "    </tr>\n",
       "    <tr>\n",
       "      <th>4</th>\n",
       "      <td>2</td>\n",
       "      <td>3</td>\n",
       "      <td>6</td>\n",
       "      <td>8</td>\n",
       "      <td>1</td>\n",
       "    </tr>\n",
       "  </tbody>\n",
       "</table>\n",
       "</div>"
      ],
      "text/plain": [
       "   sex  parent  sersalud  dhsersal1  nationality\n",
       "0    2       2         5          8            1\n",
       "1    1       1         1          8            1\n",
       "2    1       3         6          8            1\n",
       "3    1       3         6          8            1\n",
       "4    2       3         6          8            1"
      ]
     },
     "execution_count": 11,
     "metadata": {},
     "output_type": "execute_result"
    }
   ],
   "source": [
    "df[params_translated].head()"
   ]
  },
  {
   "cell_type": "code",
   "execution_count": 12,
   "metadata": {},
   "outputs": [],
   "source": [
    "df = df.groupby(params_translated + [\"loc_id\"]).sum().reset_index(col_fill='ffill')"
   ]
  },
  {
   "cell_type": "code",
   "execution_count": 13,
   "metadata": {},
   "outputs": [
    {
     "data": {
      "text/html": [
       "<div>\n",
       "<style scoped>\n",
       "    .dataframe tbody tr th:only-of-type {\n",
       "        vertical-align: middle;\n",
       "    }\n",
       "\n",
       "    .dataframe tbody tr th {\n",
       "        vertical-align: top;\n",
       "    }\n",
       "\n",
       "    .dataframe thead th {\n",
       "        text-align: right;\n",
       "    }\n",
       "</style>\n",
       "<table border=\"1\" class=\"dataframe\">\n",
       "  <thead>\n",
       "    <tr style=\"text-align: right;\">\n",
       "      <th></th>\n",
       "      <th>sex</th>\n",
       "      <th>parent</th>\n",
       "      <th>sersalud</th>\n",
       "      <th>dhsersal1</th>\n",
       "      <th>nationality</th>\n",
       "      <th>loc_id</th>\n",
       "      <th>population</th>\n",
       "    </tr>\n",
       "  </thead>\n",
       "  <tbody>\n",
       "    <tr>\n",
       "      <th>0</th>\n",
       "      <td>1</td>\n",
       "      <td>0</td>\n",
       "      <td>0</td>\n",
       "      <td>0</td>\n",
       "      <td>0</td>\n",
       "      <td>320070000</td>\n",
       "      <td>4</td>\n",
       "    </tr>\n",
       "    <tr>\n",
       "      <th>1</th>\n",
       "      <td>1</td>\n",
       "      <td>0</td>\n",
       "      <td>0</td>\n",
       "      <td>0</td>\n",
       "      <td>0</td>\n",
       "      <td>320080000</td>\n",
       "      <td>1</td>\n",
       "    </tr>\n",
       "    <tr>\n",
       "      <th>2</th>\n",
       "      <td>1</td>\n",
       "      <td>0</td>\n",
       "      <td>0</td>\n",
       "      <td>0</td>\n",
       "      <td>0</td>\n",
       "      <td>320100000</td>\n",
       "      <td>6</td>\n",
       "    </tr>\n",
       "    <tr>\n",
       "      <th>3</th>\n",
       "      <td>1</td>\n",
       "      <td>0</td>\n",
       "      <td>0</td>\n",
       "      <td>0</td>\n",
       "      <td>0</td>\n",
       "      <td>320110000</td>\n",
       "      <td>1</td>\n",
       "    </tr>\n",
       "    <tr>\n",
       "      <th>4</th>\n",
       "      <td>1</td>\n",
       "      <td>0</td>\n",
       "      <td>0</td>\n",
       "      <td>0</td>\n",
       "      <td>0</td>\n",
       "      <td>320120000</td>\n",
       "      <td>2</td>\n",
       "    </tr>\n",
       "  </tbody>\n",
       "</table>\n",
       "</div>"
      ],
      "text/plain": [
       "   sex  parent  sersalud  dhsersal1  nationality     loc_id  population\n",
       "0    1       0         0          0            0  320070000           4\n",
       "1    1       0         0          0            0  320080000           1\n",
       "2    1       0         0          0            0  320100000           6\n",
       "3    1       0         0          0            0  320110000           1\n",
       "4    1       0         0          0            0  320120000           2"
      ]
     },
     "execution_count": 13,
     "metadata": {},
     "output_type": "execute_result"
    }
   ],
   "source": [
    "df.head()\n"
   ]
  },
  {
   "cell_type": "code",
   "execution_count": 14,
   "metadata": {
    "scrolled": true
   },
   "outputs": [
    {
     "data": {
      "text/plain": [
       "array([0, 1, 2], dtype=int64)"
      ]
     },
     "execution_count": 14,
     "metadata": {},
     "output_type": "execute_result"
    }
   ],
   "source": [
    "df[\"nationality\"].unique()"
   ]
  },
  {
   "cell_type": "code",
   "execution_count": 15,
   "metadata": {},
   "outputs": [
    {
     "name": "stdout",
     "output_type": "stream",
     "text": [
      "<class 'pandas.core.frame.DataFrame'>\n",
      "RangeIndex: 17013 entries, 0 to 17012\n",
      "Data columns (total 7 columns):\n",
      "sex            17013 non-null int64\n",
      "parent         17013 non-null int64\n",
      "sersalud       17013 non-null int64\n",
      "dhsersal1      17013 non-null int64\n",
      "nationality    17013 non-null int64\n",
      "loc_id         17013 non-null int64\n",
      "population     17013 non-null int32\n",
      "dtypes: int32(1), int64(6)\n",
      "memory usage: 864.0 KB\n"
     ]
    }
   ],
   "source": [
    "df.info()"
   ]
  },
  {
   "cell_type": "code",
   "execution_count": 16,
   "metadata": {},
   "outputs": [],
   "source": [
    "pivote = df[\"parent\"].isnull()"
   ]
  },
  {
   "cell_type": "code",
   "execution_count": 17,
   "metadata": {},
   "outputs": [
    {
     "data": {
      "text/plain": [
       "array([False])"
      ]
     },
     "execution_count": 17,
     "metadata": {},
     "output_type": "execute_result"
    }
   ],
   "source": [
    "pivote.unique()"
   ]
  }
 ],
 "metadata": {
  "kernelspec": {
   "display_name": "Python 3",
   "language": "python",
   "name": "python3"
  },
  "language_info": {
   "codemirror_mode": {
    "name": "ipython",
    "version": 3
   },
   "file_extension": ".py",
   "mimetype": "text/x-python",
   "name": "python",
   "nbconvert_exporter": "python",
   "pygments_lexer": "ipython3",
   "version": "3.7.0"
  }
 },
 "nbformat": 4,
 "nbformat_minor": 2
}
