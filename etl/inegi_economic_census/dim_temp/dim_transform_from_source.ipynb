{
 "cells": [
  {
   "cell_type": "code",
   "execution_count": null,
   "metadata": {},
   "outputs": [],
   "source": [
    "import pandas as pd"
   ]
  },
  {
   "cell_type": "code",
   "execution_count": null,
   "metadata": {},
   "outputs": [],
   "source": [
    "url = 'data//2-6 digit_2017_Codes.xlsx'\n",
    "df_en = pd.read_excel(url)"
   ]
  },
  {
   "cell_type": "code",
   "execution_count": null,
   "metadata": {},
   "outputs": [],
   "source": [
    "df_en.dropna(axis=0, inplace=True, how='all')\n",
    "df_en.dropna(how='any', subset=[df_en.columns[1]], inplace=True)"
   ]
  },
  {
   "cell_type": "code",
   "execution_count": null,
   "metadata": {},
   "outputs": [],
   "source": [
    "df_en = df_en[[df_en.columns[1], df_en.columns[2]]]"
   ]
  },
  {
   "cell_type": "code",
   "execution_count": null,
   "metadata": {},
   "outputs": [],
   "source": [
    "df_en.columns = ['code', 'title']"
   ]
  },
  {
   "cell_type": "code",
   "execution_count": null,
   "metadata": {},
   "outputs": [],
   "source": [
    "df_en.code = df_en.code.astype('str')"
   ]
  },
  {
   "cell_type": "code",
   "execution_count": null,
   "metadata": {},
   "outputs": [],
   "source": [
    "# more than one sector\n",
    "temp = df_en.loc[df_en.code.str.contains('-')].to_dict(orient='records')\n",
    "\n",
    "new_records = []\n",
    "for record in temp:\n",
    "    #create range\n",
    "    ran = []\n",
    "    for n in record['code'].split('-'):\n",
    "        ran.append(int(n))\n",
    "    \n",
    "    for n in range(ran[0],ran[-1]+1):\n",
    "        add = {\n",
    "            'code': n,\n",
    "            'title': record['title']\n",
    "        }\n",
    "        new_records.append(add)\n",
    "\n",
    "df_temp = pd.DataFrame(new_records, columns=['code', 'title'])\n",
    "\n",
    "df_en = df_en.append(df_temp)"
   ]
  },
  {
   "cell_type": "code",
   "execution_count": null,
   "metadata": {},
   "outputs": [],
   "source": [
    "df_en.code = df_en.code.astype('str')"
   ]
  },
  {
   "cell_type": "code",
   "execution_count": null,
   "metadata": {},
   "outputs": [],
   "source": [
    "df_en.title = df_en.title.str.strip()"
   ]
  },
  {
   "cell_type": "code",
   "execution_count": null,
   "metadata": {},
   "outputs": [],
   "source": [
    "url = 'data//SCIAN2018_Categorias-productos.xlsx'\n",
    "df_mx = pd.read_excel(url, header=1)"
   ]
  },
  {
   "cell_type": "code",
   "execution_count": null,
   "metadata": {},
   "outputs": [],
   "source": [
    "df_mx.dropna(axis=0, how='all', inplace=True)\n",
    "df_mx.dropna(how='any', subset=['Código'],  inplace=True)"
   ]
  },
  {
   "cell_type": "code",
   "execution_count": null,
   "metadata": {},
   "outputs": [],
   "source": [
    "df_mx = df_mx[['Código', 'Título']]"
   ]
  },
  {
   "cell_type": "code",
   "execution_count": null,
   "metadata": {},
   "outputs": [],
   "source": [
    "df_mx.columns = ['code', 'title']"
   ]
  },
  {
   "cell_type": "code",
   "execution_count": null,
   "metadata": {},
   "outputs": [],
   "source": [
    "df_mx.code = df_mx.code.astype('str')"
   ]
  },
  {
   "cell_type": "code",
   "execution_count": null,
   "metadata": {},
   "outputs": [],
   "source": [
    "df_mx.title = df_mx.title.str.strip()"
   ]
  },
  {
   "cell_type": "code",
   "execution_count": null,
   "metadata": {},
   "outputs": [],
   "source": [
    "# more than one sector\n",
    "temp = df_mx.loc[df_mx.code.str.contains('-')].to_dict(orient='records')\n",
    "\n",
    "new_records = []\n",
    "for record in temp:\n",
    "    #create range\n",
    "    ran = []\n",
    "    for n in record['code'].split('-'):\n",
    "        ran.append(int(n))\n",
    "    \n",
    "    for n in range(ran[0],ran[-1]+1):\n",
    "        add = {\n",
    "            'code': n,\n",
    "            'title': record['title']\n",
    "        }\n",
    "        new_records.append(add)\n",
    "\n",
    "df_temp = pd.DataFrame(new_records, columns=['code', 'title'])\n",
    "\n",
    "df_mx = df_mx.append(df_temp)"
   ]
  },
  {
   "cell_type": "code",
   "execution_count": null,
   "metadata": {},
   "outputs": [],
   "source": [
    "# character\n",
    "temp = list(df_mx.loc[df_mx.title.str.contains('T'), 'title'].unique())\n",
    "\n",
    "for ele in temp:\n",
    "    if ele[-1] == 'T':\n",
    "        df_mx.title.replace(ele, ele[:-1], inplace=True)"
   ]
  },
  {
   "cell_type": "code",
   "execution_count": null,
   "metadata": {},
   "outputs": [],
   "source": [
    "print(df_en.shape, df_mx.shape)"
   ]
  },
  {
   "cell_type": "markdown",
   "metadata": {},
   "source": [
    "### Join"
   ]
  },
  {
   "cell_type": "code",
   "execution_count": null,
   "metadata": {},
   "outputs": [],
   "source": [
    "data = list(df_mx.loc[df_mx.code.str.len() == 6, 'code']) + list(df_en.loc[df_en.code.str.len() == 6, 'code'])"
   ]
  },
  {
   "cell_type": "code",
   "execution_count": null,
   "metadata": {},
   "outputs": [],
   "source": [
    "df = pd.DataFrame(data, columns=['code'])"
   ]
  },
  {
   "cell_type": "code",
   "execution_count": null,
   "metadata": {},
   "outputs": [],
   "source": [
    "df.code = df.code.str.strip()"
   ]
  },
  {
   "cell_type": "code",
   "execution_count": null,
   "metadata": {},
   "outputs": [],
   "source": [
    "df['sector_es'] = df.code.str[:2]\n",
    "df['subsector_es'] = df.code.str[:3]\n",
    "df['branch_es'] = df.code.str[:4]\n",
    "df['subbranch_es'] = df.code.str[:5]\n",
    "df['class_es'] = df.code.str[:]\n",
    "df['sector_en'] = df.code.str[:2]\n",
    "df['subsector_en'] = df.code.str[:3]\n",
    "df['branch_en'] = df.code.str[:4]\n",
    "df['subbranch_en'] = df.code.str[:5]\n",
    "df['class_en'] = df.code.str[:]"
   ]
  },
  {
   "cell_type": "code",
   "execution_count": null,
   "metadata": {},
   "outputs": [],
   "source": [
    "df.sector_es.replace(list(df_mx.loc[df_mx.code.str.len() == 2, 'code']), list(df_mx.loc[df_mx.code.str.len() == 2, 'title']), inplace=True)\n",
    "df.subsector_es.replace(list(df_mx.loc[df_mx.code.str.len() == 3, 'code']), list(df_mx.loc[df_mx.code.str.len() == 3, 'title']), inplace=True)\n",
    "df.branch_es.replace(list(df_mx.loc[df_mx.code.str.len() == 4, 'code']), list(df_mx.loc[df_mx.code.str.len() == 4, 'title']), inplace=True)\n",
    "df.subbranch_es.replace(list(df_mx.loc[df_mx.code.str.len() == 5, 'code']), list(df_mx.loc[df_mx.code.str.len() == 5, 'title']), inplace=True)\n",
    "df.class_es.replace(list(df_mx.loc[df_mx.code.str.len() == 6, 'code']), list(df_mx.loc[df_mx.code.str.len() == 6, 'title']), inplace=True)\n",
    "\n",
    "df.sector_en.replace(list(df_en.loc[df_en.code.str.len() == 2, 'code']), list(df_en.loc[df_en.code.str.len() == 2, 'title']), inplace=True)\n",
    "df.subsector_en.replace(list(df_en.loc[df_en.code.str.len() == 3, 'code']), list(df_en.loc[df_en.code.str.len() == 3, 'title']), inplace=True)\n",
    "df.branch_en.replace(list(df_en.loc[df_en.code.str.len() == 4, 'code']), list(df_en.loc[df_en.code.str.len() == 4, 'title']), inplace=True)\n",
    "df.subbranch_en.replace(list(df_en.loc[df_en.code.str.len() == 5, 'code']), list(df_en.loc[df_en.code.str.len() == 5, 'title']), inplace=True)\n",
    "df.class_en.replace(list(df_en.loc[df_en.code.str.len() == 6, 'code']), list(df_en.loc[df_en.code.str.len() == 6, 'title']), inplace=True)"
   ]
  },
  {
   "cell_type": "code",
   "execution_count": null,
   "metadata": {},
   "outputs": [],
   "source": [
    "df.drop_duplicates(inplace=True)"
   ]
  },
  {
   "cell_type": "code",
   "execution_count": null,
   "metadata": {
    "scrolled": true
   },
   "outputs": [],
   "source": [
    "df.head()"
   ]
  },
  {
   "cell_type": "code",
   "execution_count": null,
   "metadata": {},
   "outputs": [],
   "source": []
  }
 ],
 "metadata": {
  "kernelspec": {
   "display_name": "Python 3",
   "language": "python",
   "name": "python3"
  },
  "language_info": {
   "codemirror_mode": {
    "name": "ipython",
    "version": 3
   },
   "file_extension": ".py",
   "mimetype": "text/x-python",
   "name": "python",
   "nbconvert_exporter": "python",
   "pygments_lexer": "ipython3",
   "version": "3.7.1"
  }
 },
 "nbformat": 4,
 "nbformat_minor": 2
}
