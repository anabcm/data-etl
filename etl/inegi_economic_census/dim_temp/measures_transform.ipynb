{
 "cells": [
  {
   "cell_type": "code",
   "execution_count": null,
   "metadata": {},
   "outputs": [],
   "source": [
    "import pandas as pd"
   ]
  },
  {
   "cell_type": "code",
   "execution_count": null,
   "metadata": {},
   "outputs": [],
   "source": [
    "url = 'https://docs.google.com/spreadsheets/d/e/2PACX-1vT9a7WMLs04KHI3_iLNrxorfBVw6Wa47qZOH-Fv1IgCbVHpuNiqyApZDR7aO6BM3NU7l8QyP6sbQS-l/pub?output=csv'\n",
    "df = pd.read_csv(url, dtype='str')"
   ]
  },
  {
   "cell_type": "code",
   "execution_count": null,
   "metadata": {},
   "outputs": [],
   "source": [
    "def to_xml(df, cols=[]):\n",
    "    measures = []\n",
    "    try:\n",
    "        for i in df.index:\n",
    "            expression = '<Measure name=\\'' + df.loc[i, 'measure_name'] +  '\\' ' + 'column=\\'' + df.loc[i, 'id'] + '\\' ' + 'aggregator=\\'' + 'sum\\''  + '/>'\n",
    "            measures.append(expression)\n",
    "    except:\n",
    "        for i in range(df.shape[0]):\n",
    "            expression = '<Measure name=\\'' + df.iloc[i, 1] +  '\\' ' + 'column=\\'' + df.loc[i, 0] + '\\' ' + 'aggregator=\\'' + 'sum\\''  + '/>'\n",
    "            measures.append(expression)\n",
    "    return measures"
   ]
  },
  {
   "cell_type": "code",
   "execution_count": null,
   "metadata": {},
   "outputs": [],
   "source": [
    "to_xml(df, cols=['measure_name', 'id'])"
   ]
  },
  {
   "cell_type": "code",
   "execution_count": null,
   "metadata": {},
   "outputs": [],
   "source": [
    "to_xml(df)"
   ]
  }
 ],
 "metadata": {
  "kernelspec": {
   "display_name": "Python 3",
   "language": "python",
   "name": "python3"
  },
  "language_info": {
   "codemirror_mode": {
    "name": "ipython",
    "version": 3
   },
   "file_extension": ".py",
   "mimetype": "text/x-python",
   "name": "python",
   "nbconvert_exporter": "python",
   "pygments_lexer": "ipython3",
   "version": "3.7.1"
  }
 },
 "nbformat": 4,
 "nbformat_minor": 2
}
