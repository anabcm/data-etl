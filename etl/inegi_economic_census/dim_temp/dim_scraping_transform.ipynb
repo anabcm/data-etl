{
 "cells": [
  {
   "cell_type": "code",
   "execution_count": null,
   "metadata": {},
   "outputs": [],
   "source": [
    "import pandas as pd\n",
    "import json\n",
    "import glob"
   ]
  },
  {
   "cell_type": "code",
   "execution_count": null,
   "metadata": {},
   "outputs": [],
   "source": [
    "urls = []\n",
    "df_ = pd.DataFrame()\n",
    "df_join = pd.DataFrame()\n",
    "for file in glob.glob(\"data_result/*.json\"):\n",
    "    urls.append(file)\n",
    "    one = open(file, 'r')\n",
    "    df_ = pd.DataFrame(json.load(one))\n",
    "    df_join = df_join.append(df_)"
   ]
  },
  {
   "cell_type": "code",
   "execution_count": null,
   "metadata": {},
   "outputs": [],
   "source": [
    "levels = {}\n",
    "for i in range(len(urls)):\n",
    "    levels[str(i+2)] = urls[i]"
   ]
  },
  {
   "cell_type": "code",
   "execution_count": null,
   "metadata": {},
   "outputs": [],
   "source": [
    "one = open(levels['6'], 'r')\n",
    "df = pd.DataFrame(json.load(one))"
   ]
  },
  {
   "cell_type": "code",
   "execution_count": null,
   "metadata": {},
   "outputs": [],
   "source": [
    "df['group_es'] = df.clase_actividad.str[:1]\n",
    "df['group_id'] = df.clase_actividad.str[:1]\n",
    "df['sector_es'] = df.clase_actividad.str[:1]\n",
    "df['sector_id'] = df.clase_actividad.str[:1]\n",
    "df['subsector_es'] = df.clase_actividad.str[:2]\n",
    "df['subsector_id'] = df.clase_actividad.str[:2]\n",
    "df['branch_es'] = df.clase_actividad.str[:4]\n",
    "df['branch_id'] = df.clase_actividad.str[:4]\n",
    "\n",
    "df['sector_en'] = df.clase_actividad.str[:1]\n",
    "df['subsector_en'] = df.clase_actividad.str[:2]\n",
    "df['branch_en'] = df.clase_actividad.str[:4]\n",
    "df['class_en'] = df.clase_actividad"
   ]
  },
  {
   "cell_type": "code",
   "execution_count": null,
   "metadata": {},
   "outputs": [],
   "source": [
    "\"\"\"df_join.loc[df_join.nombre_actividad.str.contains('33')]\n",
    "df_join.loc[df_join.nombre_actividad.str.contains('49')]\"\"\"\n",
    "df_join.loc[df_join.nombre_actividad.str.contains('49')]"
   ]
  },
  {
   "cell_type": "code",
   "execution_count": null,
   "metadata": {},
   "outputs": [],
   "source": [
    "#df.drop(df.loc[df.nombre_actividad.str.match('Pesca de camarón') | df.nombre_actividad.str.match('Camaronicultura')].index)"
   ]
  },
  {
   "cell_type": "code",
   "execution_count": null,
   "metadata": {},
   "outputs": [],
   "source": [
    "for ele in range(df_join.shape[0]):\n",
    "    df.subsector_es.replace(df_join.iloc[ele, 0], df_join.iloc[ele, 1], inplace=True)\n",
    "    df.branch_es.replace(df_join.iloc[ele, 0], df_join.iloc[ele, 1], inplace=True)  "
   ]
  },
  {
   "cell_type": "code",
   "execution_count": null,
   "metadata": {},
   "outputs": [],
   "source": [
    "grupos = {\n",
    "    '1': 'Actividades Primarias',\n",
    "    '2': 'Actividades Secundarias',\n",
    "    '3': 'Actividades Secundarias',\n",
    "    '4': 'Actividades Secundarias',\n",
    "    '5': 'Actividades Secundarias',\n",
    "    '6': 'Actividades Terciarias',\n",
    "    '7': 'Actividades Terciarias',\n",
    "    '8': 'Actividades Terciarias',\n",
    "    '9': 'Actividades Terciarias'\n",
    "}\n",
    "\n",
    "sectores = {\n",
    "    '1': 'Agricultura, Ganadería, Caza, Silvicultura y Pesca',\n",
    "    '2': 'Minería y Extracción de Petróleo',\n",
    "    '3': 'Industrias Manufactureras',\n",
    "    '4': 'Electricidad y Agua',\n",
    "    '5': 'Construcción',\n",
    "    '6': 'Comercio',\n",
    "    '7': 'Transportes y Comunicaciones',\n",
    "    '8': 'Servicios Financieros, de Administración y Alquiler de Bienes Muebles e Inmuebles',\n",
    "    '9': 'Servicios Comunales y Sociales; Hoteles y Restaurantes; Profesionales, Técnicos y Personales. Incluye los servicios relacionados con: la Agricultura, Ganadería, Construcción, Transporte, Financieros y Comercio'\n",
    "}"
   ]
  },
  {
   "cell_type": "code",
   "execution_count": null,
   "metadata": {},
   "outputs": [],
   "source": [
    "df.group_es.replace(grupos, inplace=True)\n",
    "df.sector_es.replace(sectores, inplace=True)"
   ]
  },
  {
   "cell_type": "code",
   "execution_count": null,
   "metadata": {},
   "outputs": [],
   "source": [
    "df.rename(columns={'clase_actividad': 'class_id', 'nombre_actividad': 'class_es'}, inplace=True)"
   ]
  },
  {
   "cell_type": "code",
   "execution_count": null,
   "metadata": {},
   "outputs": [],
   "source": [
    "df.reset_index(drop=True, inplace=True)"
   ]
  },
  {
   "cell_type": "code",
   "execution_count": null,
   "metadata": {},
   "outputs": [],
   "source": [
    "url = 'data//2-6 digit_2017_Codes.xlsx'\n",
    "df_en = pd.read_excel(url)"
   ]
  },
  {
   "cell_type": "code",
   "execution_count": null,
   "metadata": {},
   "outputs": [],
   "source": [
    "df_en.dropna(axis=0, inplace=True, how='all')\n",
    "df_en.dropna(axis=1, inplace=True, how='any')"
   ]
  },
  {
   "cell_type": "code",
   "execution_count": null,
   "metadata": {},
   "outputs": [],
   "source": [
    "df_en.columns = ['id', 'naic_17', 'name']"
   ]
  },
  {
   "cell_type": "code",
   "execution_count": null,
   "metadata": {},
   "outputs": [],
   "source": [
    "df_en.naic_17 = df_en.naic_17.astype('str')"
   ]
  },
  {
   "cell_type": "code",
   "execution_count": null,
   "metadata": {},
   "outputs": [],
   "source": [
    "df_en.loc[df_en.naic_17.str.contains('-')]"
   ]
  },
  {
   "cell_type": "code",
   "execution_count": null,
   "metadata": {},
   "outputs": [],
   "source": [
    "for ele in range(df_en.shape[0]):\n",
    "    df.subsector_en.replace(str(df_en.iloc[ele, 1])[:2], df_en.iloc[ele, 2], inplace=True)\n",
    "    df.branch_en.replace(str(df_en.iloc[ele, 1])[:4], df_en.iloc[ele, 2], inplace=True)\n",
    "    df.class_en.replace(str(df_en.iloc[ele, 1]), df_en.iloc[ele, 2], inplace=True)"
   ]
  }
 ],
 "metadata": {
  "kernelspec": {
   "display_name": "Python 3",
   "language": "python",
   "name": "python3"
  },
  "language_info": {
   "codemirror_mode": {
    "name": "ipython",
    "version": 3
   },
   "file_extension": ".py",
   "mimetype": "text/x-python",
   "name": "python",
   "nbconvert_exporter": "python",
   "pygments_lexer": "ipython3",
   "version": "3.7.1"
  }
 },
 "nbformat": 4,
 "nbformat_minor": 2
}
