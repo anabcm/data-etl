{
 "cells": [
  {
   "cell_type": "markdown",
   "metadata": {},
   "source": [
    "### ETA = 1.198 [hr]"
   ]
  },
  {
   "cell_type": "code",
   "execution_count": null,
   "metadata": {},
   "outputs": [],
   "source": [
    "import datetime\n",
    "import os\n",
    "import pandas as pd\n",
    "import time\n",
    "import json"
   ]
  },
  {
   "cell_type": "code",
   "execution_count": null,
   "metadata": {},
   "outputs": [],
   "source": [
    "from bs4 import BeautifulSoup\n",
    "from selenium import webdriver\n",
    "from selenium.webdriver.common.keys import Keys\n",
    "from selenium.webdriver.common.by import By"
   ]
  },
  {
   "cell_type": "code",
   "execution_count": null,
   "metadata": {},
   "outputs": [],
   "source": [
    "def makedir(folder_name):\n",
    "    try:\n",
    "        os.makedirs(folder_name)\n",
    "        return print('folder:', folder_name, 'created.')\n",
    "    except OSError:\n",
    "        return print('folder:', folder_name, 'already exist.')"
   ]
  },
  {
   "cell_type": "code",
   "execution_count": null,
   "metadata": {},
   "outputs": [],
   "source": [
    "url = 'https://www.inegi.org.mx/app/saic/default.aspx'\n",
    "headers = {'User-Agent': 'Mozilla/5.0'}"
   ]
  },
  {
   "cell_type": "markdown",
   "metadata": {},
   "source": [
    "### Selenium"
   ]
  },
  {
   "cell_type": "code",
   "execution_count": null,
   "metadata": {},
   "outputs": [],
   "source": [
    "driver = webdriver.Firefox()\n",
    "driver.get(url)"
   ]
  },
  {
   "cell_type": "code",
   "execution_count": null,
   "metadata": {},
   "outputs": [],
   "source": [
    "# actividad economica\n",
    "driver.find_element_by_id(\"glyEco\").click()\n",
    "soup = BeautifulSoup(driver.page_source,'html.parser')"
   ]
  },
  {
   "cell_type": "code",
   "execution_count": null,
   "metadata": {},
   "outputs": [],
   "source": [
    "# lista de nombres primer nivel\n",
    "time.sleep(5)\n",
    "first_level = []\n",
    "div = soup.findAll(\"div\", {\"class\": \"panel-body slp-padding-panel\"})[2]\n",
    "for a in div.findAll('a'):\n",
    "    if a.text is not '':\n",
    "        first_level.append(a.text[1:])"
   ]
  },
  {
   "cell_type": "code",
   "execution_count": null,
   "metadata": {},
   "outputs": [],
   "source": [
    "#lista de indices primer nivel\n",
    "temp = []\n",
    "div = soup.findAll(\"div\", {\"class\": \"panel-body slp-padding-panel\"})[2]\n",
    "for a in div.findAll('a'):\n",
    "    try:\n",
    "        if ('hijos' not in a['id']) and ('0' not in a['id']) and ('_T' not in a['id']):\n",
    "            temp.append(a['id'])\n",
    "    except:\n",
    "        continue"
   ]
  },
  {
   "cell_type": "code",
   "execution_count": null,
   "metadata": {},
   "outputs": [],
   "source": [
    "# activa todos los indices del primer nivel\n",
    "time.sleep(5)\n",
    "start_time = time.time()\n",
    "for ele in temp:\n",
    "    time.sleep(1)\n",
    "    driver.find_element_by_id(ele).click()\n",
    "    time.sleep(1)\n",
    "elapsed_time = time.time() - start_time\n",
    "print(elapsed_time/60)"
   ]
  },
  {
   "cell_type": "code",
   "execution_count": null,
   "metadata": {},
   "outputs": [],
   "source": [
    "# values\n",
    "second_level = []\n",
    "soup = BeautifulSoup(driver.page_source,'html.parser')\n",
    "div = soup.find(\"div\", {\"id\": \"UPArbolActividadEconomica\"})\n",
    "for a in div.findAll('a'):\n",
    "    if a.text is not '':\n",
    "        second_level.append(a.text[1:])"
   ]
  },
  {
   "cell_type": "code",
   "execution_count": null,
   "metadata": {},
   "outputs": [],
   "source": [
    "#lista indices del segundo nivel\n",
    "temp = []\n",
    "soup = BeautifulSoup(driver.page_source,'html.parser')\n",
    "div = soup.find(\"div\", {\"id\": \"UPArbolActividadEconomica\"})\n",
    "for a in div.findAll('a'):\n",
    "    try:\n",
    "        if ('hijos' not in a['id']) and ('P0' not in a['id']) and ('_T' not in a['id']):\n",
    "            if len(a['id'].split('_')[0]) == 4:\n",
    "                temp.append(a['id'])\n",
    "    except:\n",
    "        continue"
   ]
  },
  {
   "cell_type": "code",
   "execution_count": null,
   "metadata": {},
   "outputs": [],
   "source": [
    "# activa todos los indices del segundo nivel\n",
    "time.sleep(5)\n",
    "start_time = time.time()\n",
    "for ele in temp:\n",
    "    time.sleep(1.5)\n",
    "    driver.find_element_by_id(ele).click()\n",
    "    time.sleep(1.5)\n",
    "elapsed_time = time.time() - start_time\n",
    "print(elapsed_time/60)"
   ]
  },
  {
   "cell_type": "code",
   "execution_count": null,
   "metadata": {},
   "outputs": [],
   "source": [
    "# values\n",
    "third_level = []\n",
    "soup = BeautifulSoup(driver.page_source,'html.parser')\n",
    "div = soup.find(\"div\", {\"id\": \"UPArbolActividadEconomica\"})\n",
    "for a in div.findAll('a'):\n",
    "    if a.text is not '':\n",
    "        third_level.append(a.text[1:])"
   ]
  },
  {
   "cell_type": "code",
   "execution_count": null,
   "metadata": {},
   "outputs": [],
   "source": [
    "#lista indices del tercer nivel\n",
    "temp = []\n",
    "soup = BeautifulSoup(driver.page_source,'html.parser')\n",
    "div = soup.find(\"div\", {\"id\": \"UPArbolActividadEconomica\"})\n",
    "for a in div.findAll('a'):\n",
    "    try:\n",
    "        if ('hijos' not in a['id']) and ('P0' not in a['id']) and ('_T' not in a['id']):\n",
    "            if len(a['id'].split('_')[0]) == 5:\n",
    "                temp.append(a['id'])\n",
    "    except:\n",
    "        continue"
   ]
  },
  {
   "cell_type": "code",
   "execution_count": null,
   "metadata": {},
   "outputs": [],
   "source": [
    "# activa todos los indices del tercer nivel\n",
    "time.sleep(5)\n",
    "start_time = time.time()\n",
    "for ele in temp:\n",
    "    time.sleep(1.5)\n",
    "    driver.find_element_by_id(ele).click()\n",
    "    time.sleep(1.5)\n",
    "elapsed_time = time.time() - start_time\n",
    "print(elapsed_time/60)"
   ]
  },
  {
   "cell_type": "code",
   "execution_count": null,
   "metadata": {},
   "outputs": [],
   "source": [
    "# values\n",
    "fourth_level = []\n",
    "soup = BeautifulSoup(driver.page_source,'html.parser')\n",
    "div = soup.find(\"div\", {\"id\": \"UPArbolActividadEconomica\"})\n",
    "for a in div.findAll('a'):\n",
    "    if a.text is not '':\n",
    "        fourth_level.append(a.text[1:])"
   ]
  },
  {
   "cell_type": "code",
   "execution_count": null,
   "metadata": {},
   "outputs": [],
   "source": [
    "#Obtener sucesivamente los indices y sus nombres para armar la tabla dimensiones, == 4, == 5, etc.\n",
    "temp = []\n",
    "soup = BeautifulSoup(driver.page_source,'html.parser')\n",
    "div = soup.find(\"div\", {\"id\": \"UPArbolActividadEconomica\"})\n",
    "for a in div.findAll('a'):\n",
    "    try:\n",
    "        if ('hijos' not in a['id']) and ('P0' not in a['id']) and ('_T' not in a['id']):\n",
    "            if len(a['id'].split('_')[0]) == 6:\n",
    "                temp.append(a['id'])\n",
    "    except:\n",
    "        continue"
   ]
  },
  {
   "cell_type": "code",
   "execution_count": null,
   "metadata": {},
   "outputs": [],
   "source": [
    "# activa todos los indices del cuarto nivel\n",
    "time.sleep(5)\n",
    "start_time = time.time()\n",
    "for ele in temp:\n",
    "    time.sleep(1.5)\n",
    "    driver.find_element_by_id(ele).click()\n",
    "    time.sleep(1.5)\n",
    "elapsed_time = time.time() - start_time\n",
    "print(elapsed_time/60)"
   ]
  },
  {
   "cell_type": "code",
   "execution_count": null,
   "metadata": {},
   "outputs": [],
   "source": [
    "# values\n",
    "fifth_level = []\n",
    "soup = BeautifulSoup(driver.page_source,'html.parser')\n",
    "div = soup.find(\"div\", {\"id\": \"UPArbolActividadEconomica\"})\n",
    "for a in div.findAll('a'):\n",
    "    if a.text is not '':\n",
    "        fifth_level.append(a.text[1:])"
   ]
  },
  {
   "cell_type": "code",
   "execution_count": null,
   "metadata": {},
   "outputs": [],
   "source": [
    "# values\n",
    "sixth_level = []\n",
    "soup = BeautifulSoup(driver.page_source,'html.parser')\n",
    "div = soup.find(\"div\", {\"id\": \"UPArbolActividadEconomica\"})\n",
    "for a in div.findAll('span'):\n",
    "    sixth_level.append(a.text)"
   ]
  },
  {
   "cell_type": "code",
   "execution_count": null,
   "metadata": {},
   "outputs": [],
   "source": [
    "soup = BeautifulSoup(driver.page_source,'html.parser')"
   ]
  },
  {
   "cell_type": "code",
   "execution_count": null,
   "metadata": {},
   "outputs": [],
   "source": [
    "driver.close()"
   ]
  },
  {
   "cell_type": "code",
   "execution_count": null,
   "metadata": {},
   "outputs": [],
   "source": [
    "sixth_level"
   ]
  },
  {
   "cell_type": "markdown",
   "metadata": {},
   "source": [
    "### Post-processing"
   ]
  },
  {
   "cell_type": "code",
   "execution_count": null,
   "metadata": {},
   "outputs": [],
   "source": [
    "makedir('data_result')"
   ]
  },
  {
   "cell_type": "markdown",
   "metadata": {},
   "source": [
    "### First level"
   ]
  },
  {
   "cell_type": "code",
   "execution_count": null,
   "metadata": {},
   "outputs": [],
   "source": [
    "df = pd.DataFrame(first_level, columns=['data'])\n",
    "df.data = df.data.str.replace(' - ', '-')\n",
    "df['clase_actividad'] = None\n",
    "df['nombre_actividad'] = None\n",
    "for j in range(df.shape[0]):\n",
    "    df.loc[j, 'clase_actividad'] = df.iloc[j, 0].split(' ')[0]\n",
    "    df.loc[j, 'nombre_actividad'] = df.iloc[j, 0].split(' ', 1)[1]\n",
    "df.drop(columns=['data'], inplace=True)\n",
    "df.clase_actividad = df.clase_actividad.str.strip()\n",
    "df.nombre_actividad = df.nombre_actividad.str.strip()\n",
    "\n",
    "output = df.to_dict(orient='records')\n",
    "with open('data_result/data_actividades_economicas_level_2_' + str(datetime.datetime.now().date()) + '.json', 'w') as outfile:\n",
    "    json.dump(output, outfile)"
   ]
  },
  {
   "cell_type": "markdown",
   "metadata": {},
   "source": [
    "### Second - fifth levels"
   ]
  },
  {
   "cell_type": "code",
   "execution_count": null,
   "metadata": {},
   "outputs": [],
   "source": [
    "for i in range(3,6):\n",
    "    temporal = []\n",
    "    for j in fifth_level:\n",
    "        if len(j.split(' ')[0]) == i:\n",
    "            temporal.append(j)\n",
    "    df = pd.DataFrame(temporal, columns=['data'])\n",
    "    \n",
    "    df['clase_actividad'] = None\n",
    "    df['nombre_actividad'] = None\n",
    "    for j in range(df.shape[0]):\n",
    "        df.loc[j, 'clase_actividad'] = df.iloc[j, 0][:i]\n",
    "        df.loc[j, 'nombre_actividad'] = df.iloc[j, 0][i:]\n",
    "    df.drop(columns=['data'], inplace=True)\n",
    "    df.clase_actividad = df.clase_actividad.str.strip()\n",
    "    df.nombre_actividad = df.nombre_actividad.str.strip()\n",
    "    \n",
    "    output = df.to_dict(orient='records')\n",
    "    with open('data_result/data_actividades_economicas_level_' + str(i) + '_' + str(datetime.datetime.now().date()) + '.json', 'w') as outfile:\n",
    "        json.dump(output, outfile)"
   ]
  },
  {
   "cell_type": "markdown",
   "metadata": {},
   "source": [
    "### Sixth level"
   ]
  },
  {
   "cell_type": "code",
   "execution_count": null,
   "metadata": {},
   "outputs": [],
   "source": [
    "df = pd.DataFrame(sixth_level, columns=['data'])\n",
    "\n",
    "for i in range(df.shape[0]):\n",
    "    df.loc[i, 'clase_actividad'] = df.iloc[i, 0][:6]\n",
    "    df.loc[i, 'nombre_actividad'] = df.iloc[i, 0][6:]\n",
    "df.drop(columns=['data'], inplace=True)\n",
    "df.clase_actividad = df.clase_actividad.str.strip()\n",
    "df.nombre_actividad = df.nombre_actividad.str.strip()\n",
    "\n",
    "output = df.to_dict(orient='records')\n",
    "with open('data_result/data_actividades_economicas_level' + '_6_' + str(datetime.datetime.now().date()) + '.json', 'w') as outfile:\n",
    "    json.dump(output, outfile)"
   ]
  },
  {
   "cell_type": "code",
   "execution_count": null,
   "metadata": {},
   "outputs": [],
   "source": []
  }
 ],
 "metadata": {
  "kernelspec": {
   "display_name": "Python 3",
   "language": "python",
   "name": "python3"
  },
  "language_info": {
   "codemirror_mode": {
    "name": "ipython",
    "version": 3
   },
   "file_extension": ".py",
   "mimetype": "text/x-python",
   "name": "python",
   "nbconvert_exporter": "python",
   "pygments_lexer": "ipython3",
   "version": "3.7.1"
  }
 },
 "nbformat": 4,
 "nbformat_minor": 2
}
