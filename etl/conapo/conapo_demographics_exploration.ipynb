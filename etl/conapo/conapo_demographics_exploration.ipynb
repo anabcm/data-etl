{
 "cells": [
  {
   "cell_type": "code",
   "execution_count": 1,
   "metadata": {},
   "outputs": [],
   "source": [
    "# Import libraries\n",
    "import pandas as pd\n",
    "import csv\n",
    "\n",
    "\n",
    "# File to Load\n",
    "# Source: https://datos.gob.mx/busca/dataset/proyecciones-de-la-poblacion-de-mexico-y-de-las-entidades-federativas-2016-2050\n",
    "file_to_load = \"https://storage.googleapis.com/datamexico-data/conapo/ind_dem_proyecciones.csv\"\n",
    "\n",
    "# Read Purchasing File and store into Pandas data frame\n",
    "ind_dem_proyecciones = pd.read_csv(file_to_load, encoding='latin-1')"
   ]
  },
  {
   "cell_type": "code",
   "execution_count": 3,
   "metadata": {},
   "outputs": [
    {
     "name": "stdout",
     "output_type": "stream",
     "text": [
      "   RENGLON   AÑO             ENTIDAD  CVE_GEO   CRE_NAT CRE_SOC CRE_TOT  \\\n",
      "0        1  1950  República Mexicana        0  771494.0  -28552  742942   \n",
      "1        2  1951  República Mexicana        0  797550.0  -33378  764172   \n",
      "2        3  1952  República Mexicana        0  867222.0  -34371  832851   \n",
      "3        4  1953  República Mexicana        0  882943.0  -35106  847837   \n",
      "4        5  1954  República Mexicana        0  974839.0  -36906  937933   \n",
      "\n",
      "        DEF  EDAD_MED EMI_EST  ... T_CRE_TOT  T_EMI_EST  T_INM_EST  \\\n",
      "0  488080.0     17.11       0  ...      2.75          0          0   \n",
      "1  511172.0     17.00       0  ...      2.75          0          0   \n",
      "2  487182.0     17.00       0  ...      2.91          0          0   \n",
      "3  518724.0     17.00       0  ...      2.88          0          0   \n",
      "4  462766.0     17.00       0  ...      3.09          0          0   \n",
      "\n",
      "   T_MIG_NET_EST  T_MIG_NET_INT    TMIH    TMIM     TMI TEF_ADO   TGF  \n",
      "0              0          -0.11  138.63  120.64  129.85  149.49  6.57  \n",
      "1              0          -0.12  139.83  121.47  130.87  152.02  6.66  \n",
      "2              0          -0.12  130.46  113.15  122.02  153.13  6.72  \n",
      "3              0          -0.12  136.19  117.92  127.28  154.67  6.78  \n",
      "4              0          -0.12  119.73  103.49  111.81  154.93  6.77  \n",
      "\n",
      "[5 rows x 73 columns]\n"
     ]
    }
   ],
   "source": [
    "# Print first 5 rows of file to understand structure\n",
    "print(ind_dem_proyecciones.head())"
   ]
  },
  {
   "cell_type": "code",
   "execution_count": null,
   "metadata": {},
   "outputs": [],
   "source": []
  }
 ],
 "metadata": {
  "kernelspec": {
   "display_name": "datamexico",
   "language": "python",
   "name": "datamexico"
  },
  "language_info": {
   "codemirror_mode": {
    "name": "ipython",
    "version": 3
   },
   "file_extension": ".py",
   "mimetype": "text/x-python",
   "name": "python",
   "nbconvert_exporter": "python",
   "pygments_lexer": "ipython3",
   "version": "3.7.0"
  }
 },
 "nbformat": 4,
 "nbformat_minor": 2
}
