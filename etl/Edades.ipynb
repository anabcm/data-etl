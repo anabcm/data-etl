{
 "cells": [
  {
   "cell_type": "code",
   "execution_count": 1,
   "metadata": {},
   "outputs": [],
   "source": [
    "import pandas as pd"
   ]
  },
  {
   "cell_type": "code",
   "execution_count": null,
   "metadata": {},
   "outputs": [],
   "source": [
    "url = \"https://docs.google.com/spreadsheets/d/e/2PACX-1vQrgV5L1KtlO35d4-j2uUEHifL_S2NNmqM9dU6SuMCbHfS_tYQxaTwJJmOaFz-k9kemwIlfN9i381lt/pub?output=xlsx\"\n",
    "pivote = pd.read_excel(url, sheet_name=\"tramo_edad\", encoding=\"latin-1\", dtype={\"interval_upper\": \"int64\", \"interval_lower\": \"int64\"})"
   ]
  },
  {
   "cell_type": "code",
   "execution_count": null,
   "metadata": {
    "scrolled": true
   },
   "outputs": [],
   "source": [
    "pivote"
   ]
  },
  {
   "cell_type": "code",
   "execution_count": null,
   "metadata": {},
   "outputs": [],
   "source": [
    "lis = range (0,120)"
   ]
  },
  {
   "cell_type": "code",
   "execution_count": null,
   "metadata": {},
   "outputs": [],
   "source": [
    "lista_edad = list(lis)"
   ]
  },
  {
   "cell_type": "code",
   "execution_count": null,
   "metadata": {
    "scrolled": true
   },
   "outputs": [],
   "source": [
    "lista_edad"
   ]
  },
  {
   "cell_type": "code",
   "execution_count": null,
   "metadata": {},
   "outputs": [],
   "source": [
    "df = pd.DataFrame({\"edad\":lista_edad})"
   ]
  },
  {
   "cell_type": "code",
   "execution_count": null,
   "metadata": {
    "scrolled": true
   },
   "outputs": [],
   "source": [
    "df[\"range_esp\"] = df[\"edad\"]\n",
    "df[\"range_eng\"] = df[\"edad\"]\n",
    "df[\"id\"]        = df[\"edad\"]"
   ]
  },
  {
   "cell_type": "code",
   "execution_count": null,
   "metadata": {},
   "outputs": [],
   "source": [
    "for years in df[\"range_esp\"].unique():\n",
    "    for level in range(pivote.shape[0]):\n",
    "        if (years >= pivote.interval_lower[level]) & (years < pivote.interval_upper[level]):\n",
    "            df[\"range_esp\"].replace(years, str(pivote.name_es[level]), inplace=True)\n",
    "            break"
   ]
  },
  {
   "cell_type": "code",
   "execution_count": null,
   "metadata": {},
   "outputs": [],
   "source": [
    "for years in df[\"range_eng\"].unique():\n",
    "    for level in range(pivote.shape[0]):\n",
    "        if (years >= pivote.interval_lower[level]) & (years < pivote.interval_upper[level]):\n",
    "            df[\"range_eng\"].replace(years, str(pivote.name_en[level]), inplace=True)\n",
    "            break"
   ]
  },
  {
   "cell_type": "code",
   "execution_count": null,
   "metadata": {},
   "outputs": [],
   "source": [
    "for years in df[\"id\"].unique():\n",
    "    for level in range(pivote.shape[0]):\n",
    "        if (years >= pivote.interval_lower[level]) & (years < pivote.interval_upper[level]):\n",
    "            df[\"id\"].replace(years, str(pivote.id[level]), inplace=True)\n",
    "            break"
   ]
  },
  {
   "cell_type": "code",
   "execution_count": null,
   "metadata": {},
   "outputs": [],
   "source": [
    "pd.options.display.max_rows = 200"
   ]
  },
  {
   "cell_type": "code",
   "execution_count": null,
   "metadata": {},
   "outputs": [],
   "source": [
    "df"
   ]
  }
 ],
 "metadata": {
  "kernelspec": {
   "display_name": "Python 3",
   "language": "python",
   "name": "python3"
  },
  "language_info": {
   "codemirror_mode": {
    "name": "ipython",
    "version": 3
   },
   "file_extension": ".py",
   "mimetype": "text/x-python",
   "name": "python",
   "nbconvert_exporter": "python",
   "pygments_lexer": "ipython3",
   "version": "3.7.0"
  }
 },
 "nbformat": 4,
 "nbformat_minor": 2
}
